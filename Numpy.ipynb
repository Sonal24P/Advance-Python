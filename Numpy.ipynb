{
 "cells": [
  {
   "cell_type": "code",
   "execution_count": 1,
   "id": "3a6d2d0e-2a1d-45e1-880f-2e2235d9e01d",
   "metadata": {},
   "outputs": [],
   "source": [
    "import numpy as np"
   ]
  },
  {
   "cell_type": "markdown",
   "id": "1016597b-4c81-4483-918d-ac2be604fd05",
   "metadata": {},
   "source": [
    "### max and min value"
   ]
  },
  {
   "cell_type": "code",
   "execution_count": 3,
   "id": "d8140a1e-b0dc-4e33-99bc-02a29dc210e2",
   "metadata": {},
   "outputs": [],
   "source": [
    "mat = np.array([[1,2,3],[4,5,6],[7,8,9]])"
   ]
  },
  {
   "cell_type": "code",
   "execution_count": 5,
   "id": "8719ab14-005a-4652-8332-b96871986f00",
   "metadata": {},
   "outputs": [
    {
     "data": {
      "text/plain": [
       "9"
      ]
     },
     "execution_count": 5,
     "metadata": {},
     "output_type": "execute_result"
    }
   ],
   "source": [
    "np.max(mat)"
   ]
  },
  {
   "cell_type": "code",
   "execution_count": 6,
   "id": "33c395c7-da7a-4d0f-a7a5-7e47136a7225",
   "metadata": {},
   "outputs": [
    {
     "data": {
      "text/plain": [
       "1"
      ]
     },
     "execution_count": 6,
     "metadata": {},
     "output_type": "execute_result"
    }
   ],
   "source": [
    "np.min(mat)"
   ]
  },
  {
   "cell_type": "markdown",
   "id": "fbefe84a-b94c-4acc-8467-7b08ceb911a0",
   "metadata": {},
   "source": [
    "### max and min along axis"
   ]
  },
  {
   "cell_type": "code",
   "execution_count": 8,
   "id": "bcac45d1-7f7c-4fd5-9238-33eedd9c8c6d",
   "metadata": {},
   "outputs": [
    {
     "data": {
      "text/plain": [
       "array([1, 2, 3])"
      ]
     },
     "execution_count": 8,
     "metadata": {},
     "output_type": "execute_result"
    }
   ],
   "source": [
    "np.min(mat,axis=0) #min value in each raw"
   ]
  },
  {
   "cell_type": "code",
   "execution_count": 9,
   "id": "a8d8fac3-d3ad-4249-a76c-a7595365cf10",
   "metadata": {},
   "outputs": [
    {
     "data": {
      "text/plain": [
       "array([1, 4, 7])"
      ]
     },
     "execution_count": 9,
     "metadata": {},
     "output_type": "execute_result"
    }
   ],
   "source": [
    "np.min(mat,axis=1) #min value in each column"
   ]
  },
  {
   "cell_type": "code",
   "execution_count": 10,
   "id": "10262d62-b229-431e-b235-0f7b71de12a4",
   "metadata": {},
   "outputs": [
    {
     "data": {
      "text/plain": [
       "array([7, 8, 9])"
      ]
     },
     "execution_count": 10,
     "metadata": {},
     "output_type": "execute_result"
    }
   ],
   "source": [
    "np.max(mat,axis=0) #max value in each raw"
   ]
  },
  {
   "cell_type": "code",
   "execution_count": 11,
   "id": "ee516134-3da2-4bc6-a738-05c0233dd187",
   "metadata": {},
   "outputs": [
    {
     "data": {
      "text/plain": [
       "array([3, 6, 9])"
      ]
     },
     "execution_count": 11,
     "metadata": {},
     "output_type": "execute_result"
    }
   ],
   "source": [
    "np.max(mat,axis=1) ##max value in each column"
   ]
  },
  {
   "cell_type": "markdown",
   "id": "99e48c0b-c5f0-4e3b-86c5-8ba0aab8cd86",
   "metadata": {},
   "source": [
    "### statistical properties"
   ]
  },
  {
   "cell_type": "code",
   "execution_count": 12,
   "id": "0351367c-bdfe-4932-8b6d-fca7d9be51ac",
   "metadata": {},
   "outputs": [
    {
     "data": {
      "text/plain": [
       "5.0"
      ]
     },
     "execution_count": 12,
     "metadata": {},
     "output_type": "execute_result"
    }
   ],
   "source": [
    "np.mean(mat)  # calculate mean"
   ]
  },
  {
   "cell_type": "code",
   "execution_count": 13,
   "id": "749bd253-c27a-486a-8990-023e426f4c8f",
   "metadata": {},
   "outputs": [
    {
     "data": {
      "text/plain": [
       "array([4., 5., 6.])"
      ]
     },
     "execution_count": 13,
     "metadata": {},
     "output_type": "execute_result"
    }
   ],
   "source": [
    "np.mean(mat,axis=0) # calculate mean along rows"
   ]
  },
  {
   "cell_type": "code",
   "execution_count": 15,
   "id": "5ff7d864-7018-486a-8c31-08d355b748ea",
   "metadata": {},
   "outputs": [
    {
     "data": {
      "text/plain": [
       "array([2., 5., 8.])"
      ]
     },
     "execution_count": 15,
     "metadata": {},
     "output_type": "execute_result"
    }
   ],
   "source": [
    "np.mean(mat,axis=1) # calculate mean along columns"
   ]
  },
  {
   "cell_type": "code",
   "execution_count": 16,
   "id": "edd03fca-d8fa-47c6-9684-b5d5e8e47547",
   "metadata": {},
   "outputs": [
    {
     "data": {
      "text/plain": [
       "2.581988897471611"
      ]
     },
     "execution_count": 16,
     "metadata": {},
     "output_type": "execute_result"
    }
   ],
   "source": [
    "np.std(mat) # calculate standard deviation"
   ]
  },
  {
   "cell_type": "code",
   "execution_count": null,
   "id": "f1fddaff-375f-495c-aa01-b11f3829a553",
   "metadata": {},
   "outputs": [],
   "source": [
    "np.std(mat,axis=0) # calculate std along rows"
   ]
  },
  {
   "cell_type": "code",
   "execution_count": null,
   "id": "53511e10-93e2-4e20-9e4e-d591d71445a4",
   "metadata": {},
   "outputs": [],
   "source": [
    "np.std(mat,axis=1) # calculate std along columns"
   ]
  },
  {
   "cell_type": "code",
   "execution_count": 17,
   "id": "93592a46-3ae4-469f-ada6-71cc0e55146c",
   "metadata": {},
   "outputs": [
    {
     "data": {
      "text/plain": [
       "6.666666666666667"
      ]
     },
     "execution_count": 17,
     "metadata": {},
     "output_type": "execute_result"
    }
   ],
   "source": [
    "np.var(mat)  # calculate variance "
   ]
  },
  {
   "cell_type": "code",
   "execution_count": 18,
   "id": "9ba38cde-b81a-4745-aeea-c13fe375e4cf",
   "metadata": {},
   "outputs": [
    {
     "data": {
      "text/plain": [
       "array([6., 6., 6.])"
      ]
     },
     "execution_count": 18,
     "metadata": {},
     "output_type": "execute_result"
    }
   ],
   "source": [
    "np.var(mat,axis=0) # calculate variance along rows"
   ]
  },
  {
   "cell_type": "code",
   "execution_count": 19,
   "id": "15d509e5-e5cb-44c1-8bf5-e544b9bf8ebc",
   "metadata": {},
   "outputs": [
    {
     "data": {
      "text/plain": [
       "array([0.66666667, 0.66666667, 0.66666667])"
      ]
     },
     "execution_count": 19,
     "metadata": {},
     "output_type": "execute_result"
    }
   ],
   "source": [
    "np.var(mat,axis=1) # calculate variance along columns"
   ]
  },
  {
   "cell_type": "markdown",
   "id": "6260ac73-0efb-464d-b6e0-704fa53ee33d",
   "metadata": {},
   "source": [
    "### random values"
   ]
  },
  {
   "cell_type": "code",
   "execution_count": 21,
   "id": "471291d0-6df7-476e-81e8-668f732daacd",
   "metadata": {},
   "outputs": [],
   "source": [
    "import numpy.random as random"
   ]
  },
  {
   "cell_type": "code",
   "execution_count": 23,
   "id": "50dee9e8-6f1d-4ff1-aea7-3f6786ab0804",
   "metadata": {},
   "outputs": [
    {
     "data": {
      "text/plain": [
       "array([4, 2, 0])"
      ]
     },
     "execution_count": 23,
     "metadata": {},
     "output_type": "execute_result"
    }
   ],
   "source": [
    "random.randint(0,11,3) #generate an array of 3 elements in the range of 0-11"
   ]
  },
  {
   "cell_type": "code",
   "execution_count": 24,
   "id": "98349b0f-071f-43a5-bdcb-80949318c929",
   "metadata": {},
   "outputs": [
    {
     "data": {
      "text/plain": [
       "array([0.09653195, 0.66293174, 0.68792634])"
      ]
     },
     "execution_count": 24,
     "metadata": {},
     "output_type": "execute_result"
    }
   ],
   "source": [
    "random.normal(0.0,1.0,3) # generate an array of 3 elements in the range of 0.1 to 0.3 with normal distribution"
   ]
  },
  {
   "cell_type": "code",
   "execution_count": 26,
   "id": "57a712e6-86d7-426d-a219-444e7d93f393",
   "metadata": {},
   "outputs": [],
   "source": [
    "import matplotlib.pyplot as plt"
   ]
  },
  {
   "cell_type": "code",
   "execution_count": 35,
   "id": "5da5aaea-6a15-40a4-9df9-d95eadade215",
   "metadata": {
    "scrolled": true
   },
   "outputs": [
    {
     "data": {
      "text/plain": [
       "(array([332., 286., 244., 282., 271., 279., 289., 251., 263., 503.]),\n",
       " array([ 0.,  1.,  2.,  3.,  4.,  5.,  6.,  7.,  8.,  9., 10.]),\n",
       " <BarContainer object of 10 artists>)"
      ]
     },
     "execution_count": 35,
     "metadata": {},
     "output_type": "execute_result"
    },
    {
     "data": {
      "image/png": "[encoded data removed]",
      "text/plain": [
       "<Figure size 640x480 with 1 Axes>"
      ]
     },
     "metadata": {},
     "output_type": "display_data"
    }
   ],
   "source": [
    "data =random.randint(0,11,3000)\n",
    "plt.hist(data)"
   ]
  },
  {
   "cell_type": "code",
   "execution_count": 36,
   "id": "0cd208a3-0495-4bc8-be8b-61f1f592438d",
   "metadata": {},
   "outputs": [
    {
     "name": "stdout",
     "output_type": "stream",
     "text": [
      "The percentage of 5 is 279\n",
      "The percentage of 1 is 286\n",
      "The percentage of 10 is 237\n",
      "The percentage of 4 is 271\n",
      "The percentage of 9 is 266\n",
      "The percentage of 8 is 263\n",
      "The percentage of 6 is 289\n",
      "The percentage of 7 is 251\n",
      "The percentage of 2 is 244\n",
      "The percentage of 0 is 332\n",
      "The percentage of 3 is 282\n"
     ]
    }
   ],
   "source": [
    "valueCount = dict()\n",
    "for num in data:\n",
    "    if num not in valueCount and num in data:\n",
    "        valueCount[num]=1\n",
    "    else:\n",
    "        valueCount[num]+=1\n",
    "for key,val in valueCount.items():\n",
    "    print(\"The percentage of {} is {}\".format(key,val))"
   ]
  },
  {
   "cell_type": "code",
   "execution_count": 52,
   "id": "197794e5-1733-411f-81a5-46a15998486c",
   "metadata": {},
   "outputs": [
    {
     "data": {
      "text/plain": [
       "(array([ 1.,  0.,  2.,  0.,  1.,  1.,  0.,  0.,  0.,  4.,  3.,  3.,  5.,\n",
       "         9.,  7., 14.,  8.,  7., 10., 13., 16., 19., 25., 21., 29., 25.,\n",
       "        29., 33., 33., 39., 37., 41., 58., 72., 71., 63., 66., 67., 72.,\n",
       "        69., 74., 78., 88., 77., 84., 82., 97., 82., 79., 91., 87., 95.,\n",
       "        67., 62., 79., 68., 62., 63., 55., 55., 52., 43., 43., 40., 35.,\n",
       "        43., 30., 38., 27., 22., 29., 19., 11., 15., 10., 11.,  5.,  5.,\n",
       "         6.,  1.,  3.,  3.,  0.,  0.,  1.,  4.,  1.,  0.,  1.,  2.,  0.,\n",
       "         0.,  0.,  1.,  0.,  0.,  0.,  0.,  0.,  1.]),\n",
       " array([-20.12120101, -19.68437207, -19.24754314, -18.8107142 ,\n",
       "        -18.37388526, -17.93705632, -17.50022739, -17.06339845,\n",
       "        -16.62656951, -16.18974058, -15.75291164, -15.3160827 ,\n",
       "        -14.87925376, -14.44242483, -14.00559589, -13.56876695,\n",
       "        -13.13193801, -12.69510908, -12.25828014, -11.8214512 ,\n",
       "        -11.38462226, -10.94779333, -10.51096439, -10.07413545,\n",
       "         -9.63730652,  -9.20047758,  -8.76364864,  -8.3268197 ,\n",
       "         -7.88999077,  -7.45316183,  -7.01633289,  -6.57950395,\n",
       "         -6.14267502,  -5.70584608,  -5.26901714,  -4.8321882 ,\n",
       "         -4.39535927,  -3.95853033,  -3.52170139,  -3.08487246,\n",
       "         -2.64804352,  -2.21121458,  -1.77438564,  -1.33755671,\n",
       "         -0.90072777,  -0.46389883,  -0.02706989,   0.40975904,\n",
       "          0.84658798,   1.28341692,   1.72024586,   2.15707479,\n",
       "          2.59390373,   3.03073267,   3.4675616 ,   3.90439054,\n",
       "          4.34121948,   4.77804842,   5.21487735,   5.65170629,\n",
       "          6.08853523,   6.52536417,   6.9621931 ,   7.39902204,\n",
       "          7.83585098,   8.27267991,   8.70950885,   9.14633779,\n",
       "          9.58316673,  10.01999566,  10.4568246 ,  10.89365354,\n",
       "         11.33048248,  11.76731141,  12.20414035,  12.64096929,\n",
       "         13.07779823,  13.51462716,  13.9514561 ,  14.38828504,\n",
       "         14.82511397,  15.26194291,  15.69877185,  16.13560079,\n",
       "         16.57242972,  17.00925866,  17.4460876 ,  17.88291654,\n",
       "         18.31974547,  18.75657441,  19.19340335,  19.63023229,\n",
       "         20.06706122,  20.50389016,  20.9407191 ,  21.37754803,\n",
       "         21.81437697,  22.25120591,  22.68803485,  23.12486378,\n",
       "         23.56169272]),\n",
       " <BarContainer object of 100 artists>)"
      ]
     },
     "execution_count": 52,
     "metadata": {},
     "output_type": "execute_result"
    },
    {
     "data": {
      "image/png": "[encoded data removed]",
      "text/plain": [
       "<Figure size 1000x600 with 1 Axes>"
      ]
     },
     "metadata": {},
     "output_type": "display_data"
    }
   ],
   "source": [
    "b = random.normal(0.0,6.0,3000)\n",
    "plt.figure(figsize=(10,6))\n",
    "plt.hist(b,bins=100)"
   ]
  },
  {
   "cell_type": "markdown",
   "id": "66dc95b4-99e6-4167-8f12-3fa4e7ab7468",
   "metadata": {},
   "source": [
    "### Logistic distribution"
   ]
  },
  {
   "cell_type": "code",
   "execution_count": 54,
   "id": "aeee1849-64bc-4de9-ba4d-b3d4e5f6b16c",
   "metadata": {},
   "outputs": [
    {
     "data": {
      "text/plain": [
       "(array([  1.,   0.,   0.,   0.,   0.,   0.,   0.,   0.,   0.,   0.,   0.,\n",
       "          0.,   0.,   0.,   0.,   1.,   3.,   1.,   2.,   4.,   2.,   5.,\n",
       "          2.,   4.,   3.,   3.,   4.,   6.,   5.,   7.,  12.,  15.,  16.,\n",
       "         16.,  24.,  21.,  33.,  36.,  42.,  52.,  52.,  52.,  72.,  75.,\n",
       "         89.,  88.,  99.,  93., 122., 133., 128., 133., 135., 120., 130.,\n",
       "        124., 116.,  96.,  93.,  83.,  87.,  78.,  56.,  53.,  60.,  41.,\n",
       "         34.,  32.,  25.,  26.,  34.,  15.,  21.,  10.,   8.,  14.,   8.,\n",
       "         10.,   5.,   4.,   5.,   2.,   3.,   2.,   1.,   1.,   1.,   3.,\n",
       "          3.,   1.,   0.,   1.,   0.,   1.,   0.,   0.,   0.,   0.,   1.,\n",
       "          1.]),\n",
       " array([-9.14617004, -8.97196909, -8.79776814, -8.6235672 , -8.44936625,\n",
       "        -8.27516531, -8.10096436, -7.92676341, -7.75256247, -7.57836152,\n",
       "        -7.40416058, -7.22995963, -7.05575868, -6.88155774, -6.70735679,\n",
       "        -6.53315584, -6.3589549 , -6.18475395, -6.01055301, -5.83635206,\n",
       "        -5.66215111, -5.48795017, -5.31374922, -5.13954827, -4.96534733,\n",
       "        -4.79114638, -4.61694544, -4.44274449, -4.26854354, -4.0943426 ,\n",
       "        -3.92014165, -3.74594071, -3.57173976, -3.39753881, -3.22333787,\n",
       "        -3.04913692, -2.87493597, -2.70073503, -2.52653408, -2.35233314,\n",
       "        -2.17813219, -2.00393124, -1.8297303 , -1.65552935, -1.48132841,\n",
       "        -1.30712746, -1.13292651, -0.95872557, -0.78452462, -0.61032367,\n",
       "        -0.43612273, -0.26192178, -0.08772084,  0.08648011,  0.26068106,\n",
       "         0.434882  ,  0.60908295,  0.7832839 ,  0.95748484,  1.13168579,\n",
       "         1.30588673,  1.48008768,  1.65428863,  1.82848957,  2.00269052,\n",
       "         2.17689146,  2.35109241,  2.52529336,  2.6994943 ,  2.87369525,\n",
       "         3.0478962 ,  3.22209714,  3.39629809,  3.57049903,  3.74469998,\n",
       "         3.91890093,  4.09310187,  4.26730282,  4.44150377,  4.61570471,\n",
       "         4.78990566,  4.9641066 ,  5.13830755,  5.3125085 ,  5.48670944,\n",
       "         5.66091039,  5.83511133,  6.00931228,  6.18351323,  6.35771417,\n",
       "         6.53191512,  6.70611607,  6.88031701,  7.05451796,  7.2287189 ,\n",
       "         7.40291985,  7.5771208 ,  7.75132174,  7.92552269,  8.09972364,\n",
       "         8.27392458]),\n",
       " <BarContainer object of 100 artists>)"
      ]
     },
     "execution_count": 54,
     "metadata": {},
     "output_type": "execute_result"
    },
    {
     "data": {
      "image/png": "[encoded data removed]",
      "text/plain": [
       "<Figure size 640x480 with 1 Axes>"
      ]
     },
     "metadata": {},
     "output_type": "display_data"
    }
   ],
   "source": [
    "c= random.logistic(0.0,1.0,3000)\n",
    "plt.hist(c,bins=100)"
   ]
  },
  {
   "cell_type": "markdown",
   "id": "5d68a306-c444-4f1c-a82a-9bfbb9e195a2",
   "metadata": {},
   "source": [
    "### logistic vs Normal Distribution"
   ]
  },
  {
   "cell_type": "code",
   "execution_count": 55,
   "id": "74ab6e60-d57b-4e37-95f9-631fc65af94b",
   "metadata": {},
   "outputs": [
    {
     "data": {
      "image/png": "[encoded data removed]",
      "text/plain": [
       "<Figure size 640x480 with 1 Axes>"
      ]
     },
     "metadata": {},
     "output_type": "display_data"
    }
   ],
   "source": [
    "plt.hist(b,bins=100)\n",
    "plt.hist(c,bins=100)\n",
    "plt.show()"
   ]
  },
  {
   "cell_type": "code",
   "execution_count": 57,
   "id": "0b284322-0eec-495b-9935-8e5a08193385",
   "metadata": {},
   "outputs": [
    {
     "data": {
      "text/plain": [
       "array([1.15419172, 1.97017385, 1.84776138])"
      ]
     },
     "execution_count": 57,
     "metadata": {},
     "output_type": "execute_result"
    }
   ],
   "source": [
    "random.uniform(1.0,2.0,3) # generate float numbers in the given range"
   ]
  },
  {
   "cell_type": "code",
   "execution_count": 68,
   "id": "dfa5eeb8-91dd-4b29-9afc-5d0e44763fae",
   "metadata": {},
   "outputs": [],
   "source": [
    "e = random.rand(3000) #generate 3000 random float values between 0 and 1"
   ]
  },
  {
   "cell_type": "code",
   "execution_count": 82,
   "id": "04776809-80f2-4e55-adcf-fa8d5e811503",
   "metadata": {},
   "outputs": [
    {
     "data": {
      "text/plain": [
       "(array([ 9.,  5.,  4., 11.,  6.,  9.,  6.,  6.,  6.,  4.,  3.,  6.,  6.,\n",
       "         5.,  8.,  9.,  3.,  2.,  2., 10.,  3.,  7.,  4., 11.,  7.,  7.,\n",
       "         7.,  9.,  3.,  9.,  5.,  6.,  4.,  7.,  7.,  5.,  1., 11.,  6.,\n",
       "         5.,  4.,  6.,  6.,  6., 10.,  5.,  7.,  3.,  6.,  4.,  2.,  8.,\n",
       "         7.,  9.,  7.,  8.,  9.,  4.,  7.,  2.,  5.,  4.,  5., 10.,  5.,\n",
       "         6.,  8.,  8.,  7.,  5., 13.,  6.,  4.,  4.,  6.,  7.,  4.,  7.,\n",
       "         4.,  4.,  5.,  3.,  7.,  4.,  5.,  4., 10.,  4.,  6.,  5.,  7.,\n",
       "         8.,  6.,  9.,  6.,  4.,  5.,  7.,  7.,  5.,  5.,  5.,  4.,  3.,\n",
       "         7.,  3.,  9.,  4.,  3.,  5.,  5.,  8.,  6.,  5., 11.,  4.,  6.,\n",
       "         6.,  5.,  5.,  6.,  2.,  4.,  7.,  7.,  3., 10.,  3.,  4.,  9.,\n",
       "         7.,  9.,  5.,  8., 11.,  5.,  4.,  7.,  8.,  9.,  9.,  3.,  3.,\n",
       "         7., 10., 12.,  6.,  6.,  5.,  4.,  9.,  3.,  4.,  6.,  7.,  5.,\n",
       "         4.,  5.,  6.,  5.,  4.,  4.,  9.,  8.,  5.,  7.,  8.,  6.,  2.,\n",
       "         8.,  4.,  5.,  8.,  7.,  8.,  6.,  6.,  4., 12.,  3.,  9.,  3.,\n",
       "         4.,  2.,  3.,  6.,  5.,  1.,  9.,  5.,  3.,  7.,  4.,  4.,  6.,\n",
       "         4., 10.,  5.,  6.,  5.,  2.,  5.,  3., 10.,  4., 13.,  7.,  4.,\n",
       "         8.,  6.,  4.,  6., 10.,  9.,  5.,  8., 10.,  4.,  9.,  7., 10.,\n",
       "         6.,  8.,  7.,  9.,  4.,  5.,  3.,  4.,  6.,  8.,  3.,  8.,  5.,\n",
       "         4.,  7.,  5.,  5.,  6.,  9.,  9.,  5.,  3.,  8.,  5.,  3.,  6.,\n",
       "         4., 11.,  6.,  7.,  3.,  7.,  7.,  3.,  4.,  2.,  6.,  6.,  5.,\n",
       "        11.,  8.,  5.,  5.,  6.,  3.,  9.,  6.,  3.,  6.,  3.,  7.,  5.,\n",
       "         6.,  5., 10.,  6.,  1.,  5.,  4.,  6.,  8.,  7.,  6.,  4.,  2.,\n",
       "         7.,  3.,  2., 11.,  7.,  4.,  7.,  6., 11.,  5.,  8.,  2.,  8.,\n",
       "         5.,  9.,  8.,  4.,  6.,  4.,  7.,  4.,  7.,  5.,  7.,  3.,  5.,\n",
       "         8.,  6.,  6.,  9.,  7.,  8.,  9.,  3.,  4.,  6.,  7.,  8.,  7.,\n",
       "         4.,  9.,  1.,  6.,  7.,  6.,  6.,  9.,  6.,  3.,  2.,  8., 10.,\n",
       "         3.,  9.,  5.,  4.,  6.,  4.,  7., 10.,  5.,  3.,  7., 13.,  5.,\n",
       "         2.,  8.,  9.,  4.,  5.,  2.,  6.,  5.,  4.,  5.,  8.,  6.,  9.,\n",
       "        10.,  5.,  9.,  7.,  6.,  8.,  2.,  6.,  4., 11.,  5.,  3.,  7.,\n",
       "         6.,  8.,  4.,  8.,  4.,  8.,  6.,  6., 10.,  3.,  2.,  7.,  9.,\n",
       "         7.,  3.,  7.,  6.,  5.,  3.,  9.,  9.,  7., 10.,  4.,  5.,  8.,\n",
       "         8.,  5.,  7.,  2.,  4.,  3.,  2.,  4.,  3.,  5.,  7.,  4., 12.,\n",
       "         5.,  6.,  5.,  7.,  4.,  5.,  6.,  4.,  3.,  5.,  4.,  3.,  7.,\n",
       "        10.,  8., 10.,  6.,  5.,  7.,  4.,  6.,  5.,  2.,  3.,  7.,  4.,\n",
       "         4.,  4.,  7.,  7., 12.,  7., 11.,  5.,  9.,  6.,  4.,  8., 10.,\n",
       "         8.,  6.,  3., 11.,  4.,  4.,  8.,  7.,  8.,  3.,  8.,  6.,  9.,\n",
       "         7.,  9.,  6.,  3.,  4.,  8.,  3.,  6.,  7.,  5.,  7.,  3.,  6.,\n",
       "         5.,  3.,  6., 11.,  7.,  7.,  8.,  4.,  7.,  6., 10.,  5.,  6.,\n",
       "         3.,  6.,  6.,  8.,  5.,  9.]),\n",
       " array([0.00100749, 0.00300416, 0.00500083, 0.0069975 , 0.00899417,\n",
       "        0.01099084, 0.01298751, 0.01498419, 0.01698086, 0.01897753,\n",
       "        0.0209742 , 0.02297087, 0.02496754, 0.02696421, 0.02896088,\n",
       "        0.03095755, 0.03295422, 0.03495089, 0.03694756, 0.03894423,\n",
       "        0.0409409 , 0.04293757, 0.04493424, 0.04693091, 0.04892758,\n",
       "        0.05092425, 0.05292092, 0.05491759, 0.05691426, 0.05891093,\n",
       "        0.0609076 , 0.06290427, 0.06490094, 0.06689761, 0.06889429,\n",
       "        0.07089096, 0.07288763, 0.0748843 , 0.07688097, 0.07887764,\n",
       "        0.08087431, 0.08287098, 0.08486765, 0.08686432, 0.08886099,\n",
       "        0.09085766, 0.09285433, 0.094851  , 0.09684767, 0.09884434,\n",
       "        0.10084101, 0.10283768, 0.10483435, 0.10683102, 0.10882769,\n",
       "        0.11082436, 0.11282103, 0.1148177 , 0.11681437, 0.11881104,\n",
       "        0.12080771, 0.12280438, 0.12480106, 0.12679773, 0.1287944 ,\n",
       "        0.13079107, 0.13278774, 0.13478441, 0.13678108, 0.13877775,\n",
       "        0.14077442, 0.14277109, 0.14476776, 0.14676443, 0.1487611 ,\n",
       "        0.15075777, 0.15275444, 0.15475111, 0.15674778, 0.15874445,\n",
       "        0.16074112, 0.16273779, 0.16473446, 0.16673113, 0.1687278 ,\n",
       "        0.17072447, 0.17272114, 0.17471781, 0.17671448, 0.17871116,\n",
       "        0.18070783, 0.1827045 , 0.18470117, 0.18669784, 0.18869451,\n",
       "        0.19069118, 0.19268785, 0.19468452, 0.19668119, 0.19867786,\n",
       "        0.20067453, 0.2026712 , 0.20466787, 0.20666454, 0.20866121,\n",
       "        0.21065788, 0.21265455, 0.21465122, 0.21664789, 0.21864456,\n",
       "        0.22064123, 0.2226379 , 0.22463457, 0.22663124, 0.22862791,\n",
       "        0.23062458, 0.23262125, 0.23461793, 0.2366146 , 0.23861127,\n",
       "        0.24060794, 0.24260461, 0.24460128, 0.24659795, 0.24859462,\n",
       "        0.25059129, 0.25258796, 0.25458463, 0.2565813 , 0.25857797,\n",
       "        0.26057464, 0.26257131, 0.26456798, 0.26656465, 0.26856132,\n",
       "        0.27055799, 0.27255466, 0.27455133, 0.276548  , 0.27854467,\n",
       "        0.28054134, 0.28253801, 0.28453468, 0.28653135, 0.28852803,\n",
       "        0.2905247 , 0.29252137, 0.29451804, 0.29651471, 0.29851138,\n",
       "        0.30050805, 0.30250472, 0.30450139, 0.30649806, 0.30849473,\n",
       "        0.3104914 , 0.31248807, 0.31448474, 0.31648141, 0.31847808,\n",
       "        0.32047475, 0.32247142, 0.32446809, 0.32646476, 0.32846143,\n",
       "        0.3304581 , 0.33245477, 0.33445144, 0.33644811, 0.33844478,\n",
       "        0.34044145, 0.34243812, 0.3444348 , 0.34643147, 0.34842814,\n",
       "        0.35042481, 0.35242148, 0.35441815, 0.35641482, 0.35841149,\n",
       "        0.36040816, 0.36240483, 0.3644015 , 0.36639817, 0.36839484,\n",
       "        0.37039151, 0.37238818, 0.37438485, 0.37638152, 0.37837819,\n",
       "        0.38037486, 0.38237153, 0.3843682 , 0.38636487, 0.38836154,\n",
       "        0.39035821, 0.39235488, 0.39435155, 0.39634822, 0.3983449 ,\n",
       "        0.40034157, 0.40233824, 0.40433491, 0.40633158, 0.40832825,\n",
       "        0.41032492, 0.41232159, 0.41431826, 0.41631493, 0.4183116 ,\n",
       "        0.42030827, 0.42230494, 0.42430161, 0.42629828, 0.42829495,\n",
       "        0.43029162, 0.43228829, 0.43428496, 0.43628163, 0.4382783 ,\n",
       "        0.44027497, 0.44227164, 0.44426831, 0.44626498, 0.44826165,\n",
       "        0.45025832, 0.45225499, 0.45425167, 0.45624834, 0.45824501,\n",
       "        0.46024168, 0.46223835, 0.46423502, 0.46623169, 0.46822836,\n",
       "        0.47022503, 0.4722217 , 0.47421837, 0.47621504, 0.47821171,\n",
       "        0.48020838, 0.48220505, 0.48420172, 0.48619839, 0.48819506,\n",
       "        0.49019173, 0.4921884 , 0.49418507, 0.49618174, 0.49817841,\n",
       "        0.50017508, 0.50217175, 0.50416842, 0.50616509, 0.50816177,\n",
       "        0.51015844, 0.51215511, 0.51415178, 0.51614845, 0.51814512,\n",
       "        0.52014179, 0.52213846, 0.52413513, 0.5261318 , 0.52812847,\n",
       "        0.53012514, 0.53212181, 0.53411848, 0.53611515, 0.53811182,\n",
       "        0.54010849, 0.54210516, 0.54410183, 0.5460985 , 0.54809517,\n",
       "        0.55009184, 0.55208851, 0.55408518, 0.55608185, 0.55807852,\n",
       "        0.56007519, 0.56207186, 0.56406854, 0.56606521, 0.56806188,\n",
       "        0.57005855, 0.57205522, 0.57405189, 0.57604856, 0.57804523,\n",
       "        0.5800419 , 0.58203857, 0.58403524, 0.58603191, 0.58802858,\n",
       "        0.59002525, 0.59202192, 0.59401859, 0.59601526, 0.59801193,\n",
       "        0.6000086 , 0.60200527, 0.60400194, 0.60599861, 0.60799528,\n",
       "        0.60999195, 0.61198862, 0.61398529, 0.61598196, 0.61797864,\n",
       "        0.61997531, 0.62197198, 0.62396865, 0.62596532, 0.62796199,\n",
       "        0.62995866, 0.63195533, 0.633952  , 0.63594867, 0.63794534,\n",
       "        0.63994201, 0.64193868, 0.64393535, 0.64593202, 0.64792869,\n",
       "        0.64992536, 0.65192203, 0.6539187 , 0.65591537, 0.65791204,\n",
       "        0.65990871, 0.66190538, 0.66390205, 0.66589872, 0.66789539,\n",
       "        0.66989206, 0.67188873, 0.67388541, 0.67588208, 0.67787875,\n",
       "        0.67987542, 0.68187209, 0.68386876, 0.68586543, 0.6878621 ,\n",
       "        0.68985877, 0.69185544, 0.69385211, 0.69584878, 0.69784545,\n",
       "        0.69984212, 0.70183879, 0.70383546, 0.70583213, 0.7078288 ,\n",
       "        0.70982547, 0.71182214, 0.71381881, 0.71581548, 0.71781215,\n",
       "        0.71980882, 0.72180549, 0.72380216, 0.72579883, 0.72779551,\n",
       "        0.72979218, 0.73178885, 0.73378552, 0.73578219, 0.73777886,\n",
       "        0.73977553, 0.7417722 , 0.74376887, 0.74576554, 0.74776221,\n",
       "        0.74975888, 0.75175555, 0.75375222, 0.75574889, 0.75774556,\n",
       "        0.75974223, 0.7617389 , 0.76373557, 0.76573224, 0.76772891,\n",
       "        0.76972558, 0.77172225, 0.77371892, 0.77571559, 0.77771226,\n",
       "        0.77970893, 0.7817056 , 0.78370228, 0.78569895, 0.78769562,\n",
       "        0.78969229, 0.79168896, 0.79368563, 0.7956823 , 0.79767897,\n",
       "        0.79967564, 0.80167231, 0.80366898, 0.80566565, 0.80766232,\n",
       "        0.80965899, 0.81165566, 0.81365233, 0.815649  , 0.81764567,\n",
       "        0.81964234, 0.82163901, 0.82363568, 0.82563235, 0.82762902,\n",
       "        0.82962569, 0.83162236, 0.83361903, 0.8356157 , 0.83761238,\n",
       "        0.83960905, 0.84160572, 0.84360239, 0.84559906, 0.84759573,\n",
       "        0.8495924 , 0.85158907, 0.85358574, 0.85558241, 0.85757908,\n",
       "        0.85957575, 0.86157242, 0.86356909, 0.86556576, 0.86756243,\n",
       "        0.8695591 , 0.87155577, 0.87355244, 0.87554911, 0.87754578,\n",
       "        0.87954245, 0.88153912, 0.88353579, 0.88553246, 0.88752913,\n",
       "        0.8895258 , 0.89152247, 0.89351915, 0.89551582, 0.89751249,\n",
       "        0.89950916, 0.90150583, 0.9035025 , 0.90549917, 0.90749584,\n",
       "        0.90949251, 0.91148918, 0.91348585, 0.91548252, 0.91747919,\n",
       "        0.91947586, 0.92147253, 0.9234692 , 0.92546587, 0.92746254,\n",
       "        0.92945921, 0.93145588, 0.93345255, 0.93544922, 0.93744589,\n",
       "        0.93944256, 0.94143923, 0.9434359 , 0.94543257, 0.94742925,\n",
       "        0.94942592, 0.95142259, 0.95341926, 0.95541593, 0.9574126 ,\n",
       "        0.95940927, 0.96140594, 0.96340261, 0.96539928, 0.96739595,\n",
       "        0.96939262, 0.97138929, 0.97338596, 0.97538263, 0.9773793 ,\n",
       "        0.97937597, 0.98137264, 0.98336931, 0.98536598, 0.98736265,\n",
       "        0.98935932, 0.99135599, 0.99335266, 0.99534933, 0.997346  ,\n",
       "        0.99934267]),\n",
       " <BarContainer object of 500 artists>)"
      ]
     },
     "execution_count": 82,
     "metadata": {},
     "output_type": "execute_result"
    },
    {
     "data": {
      "image/png": "[encoded data removed]",
      "text/plain": [
       "<Figure size 640x480 with 1 Axes>"
      ]
     },
     "metadata": {},
     "output_type": "display_data"
    }
   ],
   "source": [
    "plt.hist(e,bins=500)"
   ]
  },
  {
   "cell_type": "code",
   "execution_count": 81,
   "id": "c2da2b71-1248-4d76-b333-5da181d79707",
   "metadata": {},
   "outputs": [],
   "source": [
    "random.seed() #generating the same random values all the times"
   ]
  },
  {
   "cell_type": "markdown",
   "id": "79eb0a60-bebf-41b6-84ba-6e8aa2f89595",
   "metadata": {},
   "source": [
    "### Reshape the dimention"
   ]
  },
  {
   "cell_type": "code",
   "execution_count": 75,
   "id": "7a149806-42ac-4a58-9861-3b1719a9c324",
   "metadata": {},
   "outputs": [
    {
     "data": {
      "text/plain": [
       "array([[[1, 2, 3]],\n",
       "\n",
       "       [[4, 5, 6]],\n",
       "\n",
       "       [[7, 8, 9]]])"
      ]
     },
     "execution_count": 75,
     "metadata": {},
     "output_type": "execute_result"
    }
   ],
   "source": [
    "mat.reshape(3,1,3)"
   ]
  },
  {
   "cell_type": "code",
   "execution_count": 79,
   "id": "d817c8af-6cff-4240-9688-1679032e4858",
   "metadata": {},
   "outputs": [
    {
     "data": {
      "text/plain": [
       "array([[1, 2, 3, 4, 5, 6, 7, 8, 9]])"
      ]
     },
     "execution_count": 79,
     "metadata": {},
     "output_type": "execute_result"
    }
   ],
   "source": [
    "mat.reshape(1,-1) #putting the remaining possible value in the dimension(-1) to reshape the matrix"
   ]
  },
  {
   "cell_type": "code",
   "execution_count": null,
   "id": "92e84a90-7dc8-47d4-a2ce-28c0e7455a94",
   "metadata": {},
   "outputs": [],
   "source": []
  }
 ],
 "metadata": {
  "kernelspec": {
   "display_name": "Python 3 (ipykernel)",
   "language": "python",
   "name": "python3"
  },
  "language_info": {
   "codemirror_mode": {
    "name": "ipython",
    "version": 3
   },
   "file_extension": ".py",
   "mimetype": "text/x-python",
   "name": "python",
   "nbconvert_exporter": "python",
   "pygments_lexer": "ipython3",
   "version": "3.11.5"
  }
 },
 "nbformat": 4,
 "nbformat_minor": 5
}
