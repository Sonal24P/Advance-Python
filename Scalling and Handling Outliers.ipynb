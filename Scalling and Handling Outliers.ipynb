{
 "cells": [
  {
   "cell_type": "code",
   "execution_count": 16,
   "id": "e5a94965-f00a-4cb7-8f50-4fa44bdf2ada",
   "metadata": {},
   "outputs": [],
   "source": [
    "import pandas as pd\n",
    "df = pd.read_csv(\"D:\\\\AIML\\\\Term 2\\\\Advanced Python AI and ML Tools\\\\Activities\\\\Practice_File.csv\",usecols=[\"LotArea\",\"SalePrice\"])"
   ]
  },
  {
   "cell_type": "code",
   "execution_count": 17,
   "id": "c2dcc664-3bb8-43b2-b045-fa62d668fcda",
   "metadata": {},
   "outputs": [
    {
     "data": {
      "text/html": [
       "<div>\n",
       "<style scoped>\n",
       "    .dataframe tbody tr th:only-of-type {\n",
       "        vertical-align: middle;\n",
       "    }\n",
       "\n",
       "    .dataframe tbody tr th {\n",
       "        vertical-align: top;\n",
       "    }\n",
       "\n",
       "    .dataframe thead th {\n",
       "        text-align: right;\n",
       "    }\n",
       "</style>\n",
       "<table border=\"1\" class=\"dataframe\">\n",
       "  <thead>\n",
       "    <tr style=\"text-align: right;\">\n",
       "      <th></th>\n",
       "      <th>LotArea</th>\n",
       "      <th>SalePrice</th>\n",
       "    </tr>\n",
       "  </thead>\n",
       "  <tbody>\n",
       "    <tr>\n",
       "      <th>0</th>\n",
       "      <td>8450</td>\n",
       "      <td>208500</td>\n",
       "    </tr>\n",
       "    <tr>\n",
       "      <th>1</th>\n",
       "      <td>9600</td>\n",
       "      <td>181500</td>\n",
       "    </tr>\n",
       "    <tr>\n",
       "      <th>2</th>\n",
       "      <td>11250</td>\n",
       "      <td>223500</td>\n",
       "    </tr>\n",
       "    <tr>\n",
       "      <th>3</th>\n",
       "      <td>9550</td>\n",
       "      <td>140000</td>\n",
       "    </tr>\n",
       "    <tr>\n",
       "      <th>4</th>\n",
       "      <td>14260</td>\n",
       "      <td>250000</td>\n",
       "    </tr>\n",
       "  </tbody>\n",
       "</table>\n",
       "</div>"
      ],
      "text/plain": [
       "   LotArea  SalePrice\n",
       "0     8450     208500\n",
       "1     9600     181500\n",
       "2    11250     223500\n",
       "3     9550     140000\n",
       "4    14260     250000"
      ]
     },
     "execution_count": 17,
     "metadata": {},
     "output_type": "execute_result"
    }
   ],
   "source": [
    "df.head()"
   ]
  },
  {
   "cell_type": "code",
   "execution_count": 18,
   "id": "3e2c641d-eed7-48ce-bd6a-e8eeca88d11f",
   "metadata": {},
   "outputs": [
    {
     "data": {
      "text/plain": [
       "(1460, 2)"
      ]
     },
     "execution_count": 18,
     "metadata": {},
     "output_type": "execute_result"
    }
   ],
   "source": [
    "df.shape"
   ]
  },
  {
   "cell_type": "code",
   "execution_count": 19,
   "id": "2adbc2d4-974d-4ea8-b708-e23f19c9a780",
   "metadata": {},
   "outputs": [
    {
     "name": "stdout",
     "output_type": "stream",
     "text": [
      "<class 'pandas.core.frame.DataFrame'>\n",
      "RangeIndex: 1460 entries, 0 to 1459\n",
      "Data columns (total 2 columns):\n",
      " #   Column     Non-Null Count  Dtype\n",
      "---  ------     --------------  -----\n",
      " 0   LotArea    1460 non-null   int64\n",
      " 1   SalePrice  1460 non-null   int64\n",
      "dtypes: int64(2)\n",
      "memory usage: 22.9 KB\n"
     ]
    }
   ],
   "source": [
    "df.info()"
   ]
  },
  {
   "cell_type": "code",
   "execution_count": 20,
   "id": "2466b4de-8fd8-4e86-9c81-d59a9d91b736",
   "metadata": {},
   "outputs": [
    {
     "data": {
      "text/plain": [
       "LotArea      0\n",
       "SalePrice    0\n",
       "dtype: int64"
      ]
     },
     "execution_count": 20,
     "metadata": {},
     "output_type": "execute_result"
    }
   ],
   "source": [
    "df.isnull().sum()"
   ]
  },
  {
   "cell_type": "code",
   "execution_count": 21,
   "id": "c2e1b9a3-cf15-4ecb-84e2-a8bb97e5985d",
   "metadata": {},
   "outputs": [
    {
     "data": {
      "text/html": [
       "<div>\n",
       "<style scoped>\n",
       "    .dataframe tbody tr th:only-of-type {\n",
       "        vertical-align: middle;\n",
       "    }\n",
       "\n",
       "    .dataframe tbody tr th {\n",
       "        vertical-align: top;\n",
       "    }\n",
       "\n",
       "    .dataframe thead th {\n",
       "        text-align: right;\n",
       "    }\n",
       "</style>\n",
       "<table border=\"1\" class=\"dataframe\">\n",
       "  <thead>\n",
       "    <tr style=\"text-align: right;\">\n",
       "      <th></th>\n",
       "      <th>LotArea</th>\n",
       "      <th>SalePrice</th>\n",
       "    </tr>\n",
       "  </thead>\n",
       "  <tbody>\n",
       "    <tr>\n",
       "      <th>count</th>\n",
       "      <td>1460.000000</td>\n",
       "      <td>1460.000000</td>\n",
       "    </tr>\n",
       "    <tr>\n",
       "      <th>mean</th>\n",
       "      <td>10516.828082</td>\n",
       "      <td>180921.195890</td>\n",
       "    </tr>\n",
       "    <tr>\n",
       "      <th>std</th>\n",
       "      <td>9981.264932</td>\n",
       "      <td>79442.502883</td>\n",
       "    </tr>\n",
       "    <tr>\n",
       "      <th>min</th>\n",
       "      <td>1300.000000</td>\n",
       "      <td>34900.000000</td>\n",
       "    </tr>\n",
       "    <tr>\n",
       "      <th>25%</th>\n",
       "      <td>7553.500000</td>\n",
       "      <td>129975.000000</td>\n",
       "    </tr>\n",
       "    <tr>\n",
       "      <th>50%</th>\n",
       "      <td>9478.500000</td>\n",
       "      <td>163000.000000</td>\n",
       "    </tr>\n",
       "    <tr>\n",
       "      <th>75%</th>\n",
       "      <td>11601.500000</td>\n",
       "      <td>214000.000000</td>\n",
       "    </tr>\n",
       "    <tr>\n",
       "      <th>max</th>\n",
       "      <td>215245.000000</td>\n",
       "      <td>755000.000000</td>\n",
       "    </tr>\n",
       "  </tbody>\n",
       "</table>\n",
       "</div>"
      ],
      "text/plain": [
       "             LotArea      SalePrice\n",
       "count    1460.000000    1460.000000\n",
       "mean    10516.828082  180921.195890\n",
       "std      9981.264932   79442.502883\n",
       "min      1300.000000   34900.000000\n",
       "25%      7553.500000  129975.000000\n",
       "50%      9478.500000  163000.000000\n",
       "75%     11601.500000  214000.000000\n",
       "max    215245.000000  755000.000000"
      ]
     },
     "execution_count": 21,
     "metadata": {},
     "output_type": "execute_result"
    }
   ],
   "source": [
    "df.describe()"
   ]
  },
  {
   "cell_type": "code",
   "execution_count": 22,
   "id": "6e187624-2d14-4dce-b29c-e48dfaa2a84e",
   "metadata": {},
   "outputs": [],
   "source": [
    "q1 = df[\"SalePrice\"].quantile(0.25)\n",
    "q3 = df[\"SalePrice\"].quantile(0.75)"
   ]
  },
  {
   "cell_type": "code",
   "execution_count": 23,
   "id": "3e1ddd03-f9dc-4135-8221-ae14a896b6ae",
   "metadata": {},
   "outputs": [],
   "source": [
    "IQR = q3-q1"
   ]
  },
  {
   "cell_type": "code",
   "execution_count": 24,
   "id": "fb9879d1-05f7-49ba-a49f-ccf201ac1f42",
   "metadata": {},
   "outputs": [
    {
     "name": "stdout",
     "output_type": "stream",
     "text": [
      "q1 : 129975.0, q3 : 214000.0, IQR : 84025.0\n"
     ]
    }
   ],
   "source": [
    "print(\"q1 : {}, q3 : {}, IQR : {}\".format(q1,q3,IQR))"
   ]
  },
  {
   "cell_type": "code",
   "execution_count": 26,
   "id": "709b3b20-2e9b-4734-a758-7e61e082480c",
   "metadata": {},
   "outputs": [
    {
     "name": "stdout",
     "output_type": "stream",
     "text": [
      "Upper Whisker : 340037.5\n",
      "Lower Whisker : 3937.5\n"
     ]
    }
   ],
   "source": [
    "lower_Whisker =q1 - (1.5*IQR)\n",
    "upper_Whisker =q3 + (1.5*IQR)\n",
    "print(\"Upper Whisker :\",upper_Whisker)\n",
    "print(\"Lower Whisker :\",lower_Whisker)"
   ]
  },
  {
   "cell_type": "code",
   "execution_count": 27,
   "id": "c840f9a3-5fd4-499c-a25e-e74a26f75ad2",
   "metadata": {},
   "outputs": [
    {
     "name": "stdout",
     "output_type": "stream",
     "text": [
      "0       False\n",
      "1       False\n",
      "2       False\n",
      "3       False\n",
      "4       False\n",
      "        ...  \n",
      "1455    False\n",
      "1456    False\n",
      "1457    False\n",
      "1458    False\n",
      "1459    False\n",
      "Name: SalePrice, Length: 1460, dtype: bool\n"
     ]
    }
   ],
   "source": [
    "print((df[\"SalePrice\"]<lower_Whisker) |(df[\"SalePrice\"]>upper_Whisker))"
   ]
  },
  {
   "cell_type": "code",
   "execution_count": 28,
   "id": "fdcbb456-e378-41a3-8d41-723578ec4fce",
   "metadata": {},
   "outputs": [],
   "source": [
    "new_df = df[((df[\"SalePrice\"]>lower_Whisker) & (df[\"SalePrice\"]<upper_Whisker))]"
   ]
  },
  {
   "cell_type": "code",
   "execution_count": 29,
   "id": "123a8ffe-e54f-4734-a93e-31cedfa12a00",
   "metadata": {},
   "outputs": [
    {
     "data": {
      "text/plain": [
       "(1399, 2)"
      ]
     },
     "execution_count": 29,
     "metadata": {},
     "output_type": "execute_result"
    }
   ],
   "source": [
    "new_df.shape"
   ]
  },
  {
   "cell_type": "code",
   "execution_count": 30,
   "id": "55fd6f5d-b8fd-4fae-9b08-7ff5e52bf13f",
   "metadata": {},
   "outputs": [
    {
     "name": "stdout",
     "output_type": "stream",
     "text": [
      "Upper Whisker : 305317.5\n",
      "Lower Whisker : -2037.5\n",
      "0       False\n",
      "1       False\n",
      "2       False\n",
      "3       False\n",
      "4       False\n",
      "        ...  \n",
      "1455    False\n",
      "1456    False\n",
      "1457    False\n",
      "1458    False\n",
      "1459    False\n",
      "Name: SalePrice, Length: 1460, dtype: bool\n",
      "(1351, 2)\n"
     ]
    }
   ],
   "source": [
    "q11 = df[\"SalePrice\"].quantile(0.20)\n",
    "q13 = df[\"SalePrice\"].quantile(0.60)\n",
    "\n",
    "lower_Whisker =q11 - (1.5*IQR)\n",
    "upper_Whisker =q13 + (1.5*IQR)\n",
    "print(\"Upper Whisker :\",upper_Whisker)\n",
    "print(\"Lower Whisker :\",lower_Whisker)\n",
    "print((df[\"SalePrice\"]<lower_Whisker) |(df[\"SalePrice\"]>upper_Whisker))\n",
    "new_df1 = df[((df[\"SalePrice\"]>lower_Whisker) & (df[\"SalePrice\"]<upper_Whisker))]\n",
    "print(new_df1.shape)"
   ]
  },
  {
   "cell_type": "code",
   "execution_count": 31,
   "id": "668c5503-bce4-4507-8789-6af3b0062c10",
   "metadata": {},
   "outputs": [
    {
     "data": {
      "text/plain": [
       "{'whiskers': [<matplotlib.lines.Line2D at 0x242e3af5950>,\n",
       "  <matplotlib.lines.Line2D at 0x242e44166d0>],\n",
       " 'caps': [<matplotlib.lines.Line2D at 0x242e43001d0>,\n",
       "  <matplotlib.lines.Line2D at 0x242e4417f50>],\n",
       " 'boxes': [<matplotlib.lines.Line2D at 0x242e42c9790>],\n",
       " 'medians': [<matplotlib.lines.Line2D at 0x242e4424bd0>],\n",
       " 'fliers': [<matplotlib.lines.Line2D at 0x242e4425690>],\n",
       " 'means': []}"
      ]
     },
     "execution_count": 31,
     "metadata": {},
     "output_type": "execute_result"
    },
    {
     "data": {
      "image/png": "[encoded data removed]",
      "text/plain": [
       "<Figure size 640x480 with 1 Axes>"
      ]
     },
     "metadata": {},
     "output_type": "display_data"
    }
   ],
   "source": [
    "import matplotlib.pyplot as plt\n",
    "plt.boxplot(df[\"LotArea\"],vert=False)"
   ]
  },
  {
   "cell_type": "code",
   "execution_count": 32,
   "id": "524a7bf5-224e-479e-95c2-5ed91127f956",
   "metadata": {},
   "outputs": [
    {
     "data": {
      "text/plain": [
       "<Axes: >"
      ]
     },
     "execution_count": 32,
     "metadata": {},
     "output_type": "execute_result"
    },
    {
     "data": {
      "image/png": "[encoded data removed]",
      "text/plain": [
       "<Figure size 640x480 with 1 Axes>"
      ]
     },
     "metadata": {},
     "output_type": "display_data"
    }
   ],
   "source": [
    "df[\"SalePrice\"].hist()"
   ]
  },
  {
   "cell_type": "code",
   "execution_count": 33,
   "id": "4302be8c-70c4-48ad-9dd8-c51bad9c68fe",
   "metadata": {},
   "outputs": [
    {
     "data": {
      "text/plain": [
       "Text(0, 0.5, 'Sales Price')"
      ]
     },
     "execution_count": 33,
     "metadata": {},
     "output_type": "execute_result"
    },
    {
     "data": {
      "image/png": "[encoded data removed]",
      "text/plain": [
       "<Figure size 1000x600 with 1 Axes>"
      ]
     },
     "metadata": {},
     "output_type": "display_data"
    }
   ],
   "source": [
    "fig,ax = plt.subplots(figsize=(10,6))\n",
    "ax.scatter(df[\"LotArea\"],df[\"SalePrice\"])\n",
    "ax.set_xlabel(\"Lot Area\")\n",
    "ax.set_ylabel(\"Sales Price\")"
   ]
  },
  {
   "cell_type": "code",
   "execution_count": 49,
   "id": "53fd1b1b-afdc-4a3d-b6ba-a47709aef85a",
   "metadata": {},
   "outputs": [
    {
     "name": "stdout",
     "output_type": "stream",
     "text": [
      "Floor : 61815.97\n",
      "Cap : 326099.9999999999\n"
     ]
    }
   ],
   "source": [
    "floor =(df[\"SalePrice\"].quantile(0.01))\n",
    "cap =(df[\"SalePrice\"].quantile(0.95))\n",
    "print(\"Floor :\",floor)\n",
    "print(\"Cap :\",cap)"
   ]
  },
  {
   "cell_type": "code",
   "execution_count": 50,
   "id": "cad51f94-8125-4d01-9008-ec254547fae1",
   "metadata": {},
   "outputs": [],
   "source": [
    "df1=df.copy()\n",
    "df1[\"SalePrice\"]=np.where(df1[\"SalePrice\"]<floor,floor,df1[\"SalePrice\"])\n",
    "df1[\"SalePrice\"]=np.where(df1[\"SalePrice\"]>cap,cap,df1[\"SalePrice\"])"
   ]
  },
  {
   "cell_type": "code",
   "execution_count": 51,
   "id": "1bd98261-d510-43b9-a6bd-2056ef734687",
   "metadata": {},
   "outputs": [
    {
     "data": {
      "text/plain": [
       "{'whiskers': [<matplotlib.lines.Line2D at 0x242e4553a50>,\n",
       "  <matplotlib.lines.Line2D at 0x242e455c490>],\n",
       " 'caps': [<matplotlib.lines.Line2D at 0x242e455d010>,\n",
       "  <matplotlib.lines.Line2D at 0x242e455db10>],\n",
       " 'boxes': [<matplotlib.lines.Line2D at 0x242e4552dd0>],\n",
       " 'medians': [<matplotlib.lines.Line2D at 0x242e455e650>],\n",
       " 'fliers': [<matplotlib.lines.Line2D at 0x242e455f110>],\n",
       " 'means': []}"
      ]
     },
     "execution_count": 51,
     "metadata": {},
     "output_type": "execute_result"
    },
    {
     "data": {
      "image/png": "[encoded data removed]",
      "text/plain": [
       "<Figure size 640x480 with 1 Axes>"
      ]
     },
     "metadata": {},
     "output_type": "display_data"
    }
   ],
   "source": [
    "plt.boxplot(df1[\"SalePrice\"])"
   ]
  },
  {
   "cell_type": "code",
   "execution_count": 57,
   "id": "650e6c09-4c6f-4811-b61a-55be4726bd3f",
   "metadata": {},
   "outputs": [
    {
     "name": "stdout",
     "output_type": "stream",
     "text": [
      "(1460, 3)\n",
      "(109,)\n"
     ]
    }
   ],
   "source": [
    "df2 =df.copy()\n",
    "print(df2.shape)\n",
    "index = df2[(df2[\"SalePrice\"]<lower_Whisker) | (df[\"SalePrice\"]>upper_Whisker)].index\n",
    "print(index.shape)"
   ]
  },
  {
   "cell_type": "code",
   "execution_count": 54,
   "id": "85ca0fab-65ec-4556-952b-3b5f84222142",
   "metadata": {},
   "outputs": [
    {
     "name": "stdout",
     "output_type": "stream",
     "text": [
      "1.88\n"
     ]
    }
   ],
   "source": [
    "print(df[\"SalePrice\"].skew().round(2))"
   ]
  },
  {
   "cell_type": "code",
   "execution_count": 55,
   "id": "87c0f20e-226c-419b-97a1-f7ec593aa8a8",
   "metadata": {},
   "outputs": [
    {
     "name": "stdout",
     "output_type": "stream",
     "text": [
      "0.12\n"
     ]
    }
   ],
   "source": [
    "df[\"log_sale\"] = df[\"SalePrice\"].map(lambda i: np.log(i) if i>0 else 0)\n",
    "print(df[\"log_sale\"].skew().round(2))"
   ]
  },
  {
   "cell_type": "code",
   "execution_count": 62,
   "id": "28b77fea-000f-4d2e-bd32-3af78408d1be",
   "metadata": {},
   "outputs": [
    {
     "data": {
      "text/plain": [
       "(array([  4.,   1.,   0.,   5.,   7.,   6.,  26.,  45.,  47., 114., 165.,\n",
       "        215., 172., 199., 119., 109.,  88.,  52.,  35.,  26.,  12.,   5.,\n",
       "          4.,   2.,   2.]),\n",
       " array([10.46024211, 10.58321134, 10.70618058, 10.82914982, 10.95211906,\n",
       "        11.07508829, 11.19805753, 11.32102677, 11.443996  , 11.56696524,\n",
       "        11.68993448, 11.81290371, 11.93587295, 12.05884219, 12.18181142,\n",
       "        12.30478066, 12.4277499 , 12.55071913, 12.67368837, 12.79665761,\n",
       "        12.91962684, 13.04259608, 13.16556532, 13.28853455, 13.41150379,\n",
       "        13.53447303]),\n",
       " <BarContainer object of 25 artists>)"
      ]
     },
     "execution_count": 62,
     "metadata": {},
     "output_type": "execute_result"
    },
    {
     "data": {
      "image/png": "[encoded data removed]",
      "text/plain": [
       "<Figure size 640x480 with 1 Axes>"
      ]
     },
     "metadata": {},
     "output_type": "display_data"
    }
   ],
   "source": [
    "plt.hist(df2[\"log_sale\"],bins=25)"
   ]
  },
  {
   "cell_type": "code",
   "execution_count": 60,
   "id": "73c25616-90b5-44b0-b2b3-ae07eaf02a08",
   "metadata": {},
   "outputs": [
    {
     "data": {
      "text/plain": [
       "(array([ 16.,  74., 184., 345., 252., 199., 125.,  85.,  61.,  38.,  27.,\n",
       "         15.,  14.,   8.,   6.,   2.,   1.,   1.,   2.,   1.,   2.,   0.,\n",
       "          0.,   0.,   2.]),\n",
       " array([ 34900.,  63704.,  92508., 121312., 150116., 178920., 207724.,\n",
       "        236528., 265332., 294136., 322940., 351744., 380548., 409352.,\n",
       "        438156., 466960., 495764., 524568., 553372., 582176., 610980.,\n",
       "        639784., 668588., 697392., 726196., 755000.]),\n",
       " <BarContainer object of 25 artists>)"
      ]
     },
     "execution_count": 60,
     "metadata": {},
     "output_type": "execute_result"
    },
    {
     "data": {
      "image/png": "[encoded data removed]",
      "text/plain": [
       "<Figure size 640x480 with 1 Axes>"
      ]
     },
     "metadata": {},
     "output_type": "display_data"
    }
   ],
   "source": [
    "plt.hist(df2[\"SalePrice\"],bins=25)"
   ]
  },
  {
   "cell_type": "code",
   "execution_count": 70,
   "id": "c009d498-af8c-4547-9088-9710b423595b",
   "metadata": {},
   "outputs": [
    {
     "data": {
      "text/plain": [
       "array([[0],\n",
       "       [0],\n",
       "       [1],\n",
       "       [1],\n",
       "       [1]])"
      ]
     },
     "execution_count": 70,
     "metadata": {},
     "output_type": "execute_result"
    }
   ],
   "source": [
    "from sklearn.preprocessing import Binarizer\n",
    "age = np.array([[6],[12],[20],[36],[65]])\n",
    "binarizer = Binarizer(threshold=18)\n",
    "binarizer.fit_transform(age)"
   ]
  },
  {
   "cell_type": "code",
   "execution_count": 73,
   "id": "966a589e-b87d-498f-bcc6-8e900320afd7",
   "metadata": {
    "scrolled": true
   },
   "outputs": [
    {
     "data": {
      "text/plain": [
       "array([[0],\n",
       "       [0],\n",
       "       [1],\n",
       "       [1],\n",
       "       [1]])"
      ]
     },
     "execution_count": 73,
     "metadata": {},
     "output_type": "execute_result"
    }
   ],
   "source": [
    "age = np.array([[18],[12],[20],[36],[65]])\n",
    "binarizer = Binarizer(threshold=18)\n",
    "binarizer.fit_transform(age)"
   ]
  },
  {
   "cell_type": "code",
   "execution_count": 74,
   "id": "5a9553b4-c506-4e03-a4ac-0a966db7fc7c",
   "metadata": {},
   "outputs": [
    {
     "data": {
      "text/plain": [
       "array([[0],\n",
       "       [0],\n",
       "       [1],\n",
       "       [2],\n",
       "       [2]], dtype=int64)"
      ]
     },
     "execution_count": 74,
     "metadata": {},
     "output_type": "execute_result"
    }
   ],
   "source": [
    "np.digitize(age,bins=[20,30.64])"
   ]
  },
  {
   "cell_type": "code",
   "execution_count": null,
   "id": "d546e3ed-0886-4141-a489-b84c2450c415",
   "metadata": {},
   "outputs": [],
   "source": []
  },
  {
   "cell_type": "code",
   "execution_count": null,
   "id": "50af5386-f5ef-4c6d-a326-3b76bcb371a2",
   "metadata": {},
   "outputs": [],
   "source": []
  },
  {
   "cell_type": "code",
   "execution_count": null,
   "id": "1459ccb9-1e3d-4241-9429-910d930bf0db",
   "metadata": {},
   "outputs": [],
   "source": []
  },
  {
   "cell_type": "code",
   "execution_count": null,
   "id": "87929fc0-7aa8-43d6-ae32-6c3f00714a03",
   "metadata": {},
   "outputs": [],
   "source": []
  },
  {
   "cell_type": "markdown",
   "id": "452c1d67-6f88-441d-ab08-60b3c148b730",
   "metadata": {},
   "source": [
    "### MinMax Scalar"
   ]
  },
  {
   "cell_type": "code",
   "execution_count": 6,
   "id": "67db516a-ae90-4bd3-82eb-0e627c611b67",
   "metadata": {},
   "outputs": [],
   "source": [
    "import numpy as np\n",
    "from sklearn import preprocessing"
   ]
  },
  {
   "cell_type": "code",
   "execution_count": 8,
   "id": "f7bdbe37-e65f-4454-a178-87b633e3ef5b",
   "metadata": {},
   "outputs": [],
   "source": [
    "feature = np.array([[-500.5],[-100.1],[0],[100.1],[900.9]])"
   ]
  },
  {
   "cell_type": "code",
   "execution_count": 9,
   "id": "dd8fdbe5-5ef7-4e71-8397-98e008719501",
   "metadata": {},
   "outputs": [],
   "source": [
    "minMax_scale = preprocessing.MinMaxScaler(feature_range=(0,1))"
   ]
  },
  {
   "cell_type": "code",
   "execution_count": 10,
   "id": "ce529045-903a-4427-8950-60337ad6f795",
   "metadata": {},
   "outputs": [],
   "source": [
    "scaled_feature = minMax_scale.fit_transform(feature)"
   ]
  },
  {
   "cell_type": "code",
   "execution_count": 11,
   "id": "f1c92466-4798-4d90-970f-018c85ab1daa",
   "metadata": {},
   "outputs": [
    {
     "data": {
      "text/plain": [
       "array([[0.        ],\n",
       "       [0.28571429],\n",
       "       [0.35714286],\n",
       "       [0.42857143],\n",
       "       [1.        ]])"
      ]
     },
     "execution_count": 11,
     "metadata": {},
     "output_type": "execute_result"
    }
   ],
   "source": [
    "scaled_feature"
   ]
  },
  {
   "cell_type": "markdown",
   "id": "e380918e-1e5e-4350-a331-b397d8ce8e1e",
   "metadata": {},
   "source": [
    "### standard Scalar"
   ]
  },
  {
   "cell_type": "code",
   "execution_count": 12,
   "id": "11e0bd5b-379f-45c7-821a-681749d5f6f3",
   "metadata": {},
   "outputs": [],
   "source": [
    "scalar = preprocessing.StandardScaler()"
   ]
  },
  {
   "cell_type": "code",
   "execution_count": 13,
   "id": "8bd8e497-75b1-4e8a-9fe5-0916b8056512",
   "metadata": {},
   "outputs": [],
   "source": [
    "standardized = scalar.fit_transform(feature)"
   ]
  },
  {
   "cell_type": "code",
   "execution_count": 14,
   "id": "d4e66745-4b7a-4117-9731-e65fa2a4f90b",
   "metadata": {},
   "outputs": [
    {
     "data": {
      "text/plain": [
       "array([[-1.26687088],\n",
       "       [-0.39316683],\n",
       "       [-0.17474081],\n",
       "       [ 0.0436852 ],\n",
       "       [ 1.79109332]])"
      ]
     },
     "execution_count": 14,
     "metadata": {},
     "output_type": "execute_result"
    }
   ],
   "source": [
    "standardized"
   ]
  },
  {
   "cell_type": "code",
   "execution_count": null,
   "id": "324fe790-3ee2-4d98-9728-44ef6ce13ed6",
   "metadata": {},
   "outputs": [],
   "source": []
  }
 ],
 "metadata": {
  "kernelspec": {
   "display_name": "Python 3 (ipykernel)",
   "language": "python",
   "name": "python3"
  },
  "language_info": {
   "codemirror_mode": {
    "name": "ipython",
    "version": 3
   },
   "file_extension": ".py",
   "mimetype": "text/x-python",
   "name": "python",
   "nbconvert_exporter": "python",
   "pygments_lexer": "ipython3",
   "version": "3.11.5"
  }
 },
 "nbformat": 4,
 "nbformat_minor": 5
}
