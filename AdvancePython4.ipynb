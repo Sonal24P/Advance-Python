{
 "cells": [
  {
   "cell_type": "markdown",
   "id": "d217a68e-cefd-4aa5-982e-407fec69026d",
   "metadata": {},
   "source": [
    "### Write a Python program to find the single element in a list where every element appears multiple times except for one.\n",
    "Input : [5, 3, 4, 3, 5, 5, 3],\n",
    "Output : 4"
   ]
  },
  {
   "cell_type": "code",
   "execution_count": 4,
   "id": "9fcd26ad-189b-4151-aa27-2945fa23aea4",
   "metadata": {},
   "outputs": [
    {
     "name": "stdout",
     "output_type": "stream",
     "text": [
      "The single number from [5, 3, 4, 3, 5, 5, 3] is 4\n"
     ]
    }
   ],
   "source": [
    "def getSingle(nums):\n",
    "    count_nums = dict()\n",
    "    num = None\n",
    "    for num in nums:\n",
    "        if num not in count_nums:\n",
    "            count_nums[num]=1\n",
    "        else:\n",
    "            count_nums[num]+=1\n",
    "    for num in count_nums:\n",
    "        if count_nums[num] ==1:\n",
    "            num =num\n",
    "    return num\n",
    "    \n",
    "nums =[5, 3, 4, 3, 5, 5, 3]\n",
    "n=getSingle(nums)\n",
    "print(\"The single number from {} is {}\".format(nums,n))"
   ]
  },
  {
   "cell_type": "markdown",
   "id": "acb387bf-a9fa-4252-a7fa-cd9722ea5cc9",
   "metadata": {},
   "source": [
    "### Write a Python program to compute and return the square root of a given 'integer'. \n",
    "Input : 16\n",
    "Output : 4\n",
    "Note : The returned value will be an 'integer', do not use square root functions from python."
   ]
  },
  {
   "cell_type": "code",
   "execution_count": 5,
   "id": "67a25b05-bcb3-47b7-91e4-fd16cde72e78",
   "metadata": {},
   "outputs": [
    {
     "name": "stdout",
     "output_type": "stream",
     "text": [
      "Square root of 25 is 5.0\n"
     ]
    }
   ],
   "source": [
    "def SquareRoot(num):\n",
    "    num=num**(0.5)\n",
    "    return num\n",
    "\n",
    "num =25\n",
    "root =SquareRoot(num)\n",
    "print(\"Square root of {} is {}\".format(num,root)) "
   ]
  },
  {
   "cell_type": "markdown",
   "id": "5f9a6637-5c4a-4a19-8fe0-a5236dfacbb3",
   "metadata": {},
   "source": [
    "### Write a Python program to check a sequence of numbers is a geometric progression or not. \n",
    "Input : [2, 6, 18, 54]\n",
    "Output : True"
   ]
  },
  {
   "cell_type": "code",
   "execution_count": 10,
   "id": "481cc327-e9e7-4991-be40-5c777c4ee892",
   "metadata": {},
   "outputs": [
    {
     "name": "stdout",
     "output_type": "stream",
     "text": [
      "The [2, 6, 18, 54] is a geometric Progression. : True\n"
     ]
    }
   ],
   "source": [
    "def isGeoProgression(nums):\n",
    "    flag =True\n",
    "    for index in range(1,len(nums)-1):\n",
    "        if nums[index+1]%nums[index]!=0:\n",
    "            flag =False\n",
    "            break\n",
    "    return flag\n",
    "\n",
    "nums = [2, 6, 18, 54]\n",
    "result = isGeoProgression(nums)\n",
    "print(\"The {} is a geometric Progression. : {}\".format(nums,result))"
   ]
  },
  {
   "cell_type": "code",
   "execution_count": null,
   "id": "a43b02cb-6035-43ad-9b3d-f69e80c3dda9",
   "metadata": {},
   "outputs": [],
   "source": []
  }
 ],
 "metadata": {
  "kernelspec": {
   "display_name": "Python 3 (ipykernel)",
   "language": "python",
   "name": "python3"
  },
  "language_info": {
   "codemirror_mode": {
    "name": "ipython",
    "version": 3
   },
   "file_extension": ".py",
   "mimetype": "text/x-python",
   "name": "python",
   "nbconvert_exporter": "python",
   "pygments_lexer": "ipython3",
   "version": "3.11.5"
  }
 },
 "nbformat": 4,
 "nbformat_minor": 5
}
