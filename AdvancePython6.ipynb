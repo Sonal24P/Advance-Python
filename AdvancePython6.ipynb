{
 "cells": [
  {
   "cell_type": "markdown",
   "id": "393d81ce-0f54-4621-a98b-5f7c8b1f5221",
   "metadata": {},
   "source": [
    "### 1-Write a Python program to check a sequence of numbers is an arithmetic progression or not. \r\n",
    "Input : [5, 7, 9, 11]\r\n",
    "Output : True\r\n",
    "In mathematics, an arithmetic progression or arithmetic sequence is a sequence of numbers such that the difference between the consecutive terms is constant.\r\n",
    "For example, the sequence 5, 7, 9, 11, 13, 15 ... is an arithmetic progression with common difference o4], N=3\r\n",
    "Output : 5"
   ]
  },
  {
   "cell_type": "code",
   "execution_count": 2,
   "id": "f953c48c-b1ca-4a20-ab30-cadddeb63b26",
   "metadata": {},
   "outputs": [
    {
     "name": "stdout",
     "output_type": "stream",
     "text": [
      "[5, 7, 9, 11] Arithmetic Progression: True\n",
      "[5, 7, 9, 12] Arithmetic Progression: False\n"
     ]
    }
   ],
   "source": [
    "def isArithmeticProgression(seq):\n",
    "    diff = seq[1]-seq[0]\n",
    "    index =2\n",
    "    # verify the difference of all the consecutive numbers\n",
    "    while index<len(seq)-1:\n",
    "        if diff != seq[index+1]-seq[index]:\n",
    "            return False \n",
    "            break\n",
    "        index+=11\n",
    "    else:\n",
    "        return True\n",
    "        \n",
    "\n",
    "sequence1 = [5, 7, 9, 11]\n",
    "sequence2 = [5, 7, 9, 12]\n",
    "print(\"{} Arithmetic Progression: {}\".format(sequence1,isArithmeticProgression(sequence1)))\n",
    "print(\"{} Arithmetic Progression: {}\".format(sequence2,isArithmeticProgression(sequence2)))"
   ]
  },
  {
   "cell_type": "markdown",
   "id": "6c5e8925-a01f-44f0-87be-e7c22ca61fb1",
   "metadata": {},
   "source": [
    "### 2-Write a Python program to check whether a given number is an ugly number. \n",
    "Input : 12\n",
    "Output : True\n",
    "Ugly numbers are positive numbers whose only prime factors are 2, 3 or 5. The sequence 1, 2, 3, 4, 5, 6, 8, 9, 10, 12, ...\n",
    "shows the first 10 ugly numbers.\n",
    "Note: 1 is typically treated as an ugly number"
   ]
  },
  {
   "cell_type": "code",
   "execution_count": 3,
   "id": "6a7a66b2-ba3b-4f76-9e53-1d46e018ea9e",
   "metadata": {},
   "outputs": [
    {
     "name": "stdout",
     "output_type": "stream",
     "text": [
      "24 is ugly number: True\n",
      "121 is ugly number: False\n",
      "2 is ugly number: True\n",
      "100 is ugly number: True\n"
     ]
    }
   ],
   "source": [
    "def isUgly(num):\n",
    "    flag =True\n",
    "    if num>3:\n",
    "        factors =list()\n",
    "        for n in range(2,num):\n",
    "            # check if a number has any factor\n",
    "            if num%n ==0:\n",
    "                # check if the factor is prime\n",
    "                if isPrime(n):\n",
    "                    factors.append(n)\n",
    "        for factor in factors:\n",
    "            if factor not in [2,3,5]:\n",
    "                flag=False\n",
    "                break\n",
    "        return flag \n",
    "    elif num in[1,2]:\n",
    "        return True\n",
    "        \n",
    "def isPrime(n):\n",
    "    flag = True\n",
    "    for i in range(2,n):\n",
    "        if n%i==0:\n",
    "            flag = False\n",
    "            break\n",
    "    return flag\n",
    "\n",
    "num1 =24\n",
    "num2 =121\n",
    "num3 =2\n",
    "num4=100\n",
    "print(\"{} is ugly number: {}\".format(num1,isUgly(num1)))       \n",
    "print(\"{} is ugly number: {}\".format(num2,isUgly(num2)))           \n",
    "print(\"{} is ugly number: {}\".format(num3,isUgly(num3))) \n",
    "print(\"{} is ugly number: {}\".format(num4,isUgly(num4))) "
   ]
  },
  {
   "cell_type": "markdown",
   "id": "86c2f0ed-0655-4423-9a5e-3f5e18e6a595",
   "metadata": {},
   "source": [
    "### 3-Write a Python Function to find the single number in a list that doesn't occur n times.\n",
    "Input : [5, 3,3,4, 4, 3, 4], N=3\n",
    "Output : 5"
   ]
  },
  {
   "cell_type": "code",
   "execution_count": 4,
   "id": "5431074b-12a6-4eda-9ebe-5275c16a7a75",
   "metadata": {},
   "outputs": [
    {
     "name": "stdout",
     "output_type": "stream",
     "text": [
      "The number that does not occur 3 times in [5, 3, 3, 4, 4, 3, 4] is 5\n"
     ]
    }
   ],
   "source": [
    "def getNum(seq,count):\n",
    "    count_dict = dict()\n",
    "    num=None\n",
    "    for val in seq:\n",
    "        #create a dictionary for getting number counts\n",
    "        if val not in count_dict:\n",
    "            count_dict[val]=1\n",
    "        else:\n",
    "            count_dict[val]+=1\n",
    "    # validate the number of occurrences for all the numbers\n",
    "    for val in count_dict:\n",
    "        if count_dict[val]!=count:\n",
    "            num =val\n",
    "            break\n",
    "    return num\n",
    "\n",
    "nums =[5,3,3,4,4,3,4]\n",
    "count = 3\n",
    "print(\"The number that does not occur {} times in {} is {}\".format(count,nums, getNum(nums,count)))"
   ]
  },
  {
   "cell_type": "code",
   "execution_count": null,
   "id": "b02adac2-956a-40f8-9aa2-6b2f7dc2119c",
   "metadata": {},
   "outputs": [],
   "source": []
  }
 ],
 "metadata": {
  "kernelspec": {
   "display_name": "Python 3 (ipykernel)",
   "language": "python",
   "name": "python3"
  },
  "language_info": {
   "codemirror_mode": {
    "name": "ipython",
    "version": 3
   },
   "file_extension": ".py",
   "mimetype": "text/x-python",
   "name": "python",
   "nbconvert_exporter": "python",
   "pygments_lexer": "ipython3",
   "version": "3.11.5"
  }
 },
 "nbformat": 4,
 "nbformat_minor": 5
}
