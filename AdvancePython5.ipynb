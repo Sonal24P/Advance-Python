{
 "cells": [
  {
   "cell_type": "markdown",
   "id": "294f73c5-5141-4f01-ac6d-85e929cf36f7",
   "metadata": {},
   "source": [
    "### 1.Write a Python program to find all the numbers from 0-9 from a string:\n",
    "\n",
    "input: '89ADFRE41'\n",
    "\n",
    "Output :[8941]\n"
   ]
  },
  {
   "cell_type": "code",
   "execution_count": 1,
   "id": "eeea2f74-9e1f-4406-aceb-7fd2db11c481",
   "metadata": {},
   "outputs": [
    {
     "data": {
      "text/plain": [
       "['8', '9', '4', '1']"
      ]
     },
     "execution_count": 1,
     "metadata": {},
     "output_type": "execute_result"
    }
   ],
   "source": [
    "data='89ADFRE41'\n",
    "import re\n",
    "re.findall(\"\\d\",data) # fetch all the digits"
   ]
  },
  {
   "cell_type": "markdown",
   "id": "df8504e6-1e27-4ff6-b99b-642cd95a23c4",
   "metadata": {},
   "source": [
    "### 2. Write a Python program to find two elements once in a list where every element appears exactly n times in the list. \n",
    "Input : [1, 2, 1, 3, 2, 5], 2    (n=2)\n",
    "Output :[5, 3]"
   ]
  },
  {
   "cell_type": "code",
   "execution_count": 8,
   "id": "b093cb2c-6c27-4fe4-81fc-1548bad5a9a9",
   "metadata": {},
   "outputs": [
    {
     "name": "stdout",
     "output_type": "stream",
     "text": [
      "The list of words appearing 2 time in [1, 2, 1, 3, 2, 5] is [1, 2]\n"
     ]
    }
   ],
   "source": [
    "def getExact(nums,count):\n",
    "    numCount =dict()\n",
    "    finalList =list()\n",
    "    # couting the occurances for numbers\n",
    "    for num in nums:\n",
    "        if num not in numCount:\n",
    "            numCount[num]=1\n",
    "        else:\n",
    "            numCount[num]+=1\n",
    "    for num,num_count in numCount.items():\n",
    "        if count==num_count:\n",
    "            finalList.append(num)\n",
    "    return finalList\n",
    "\n",
    "nums =  [1, 2, 1, 3, 2, 5]\n",
    "n =2\n",
    "print(\"The list of words appearing {} time in {} is {}\".format(n,nums,getExact(nums,n)))"
   ]
  },
  {
   "cell_type": "markdown",
   "id": "b70344d0-2bc4-4bcb-822b-bd807904f688",
   "metadata": {},
   "source": [
    "### 3. Write a Python program to reverse the digits of an integer. \n",
    "Input : 234\n",
    "Input : -234\n",
    "Output: 432\n",
    "Output : -432"
   ]
  },
  {
   "cell_type": "code",
   "execution_count": 16,
   "id": "c8d7b70b-fb6f-42e5-843c-4b49ef88191b",
   "metadata": {},
   "outputs": [
    {
     "name": "stdout",
     "output_type": "stream",
     "text": [
      "The revered number of 234 is 432\n",
      "The revered number of -234 is -432\n"
     ]
    }
   ],
   "source": [
    "def reverse(num):\n",
    "    if num >=0:\n",
    "        return int(str(num)[::-1]) #  reverse positive number\n",
    "    else:\n",
    "        return -int(str(abs(num))[::-1])\n",
    "num1 = 234\n",
    "num2 = -234\n",
    "print(\"The revered number of {} is {}\".format(num1,reverse(num1)))\n",
    "print(\"The revered number of {} is {}\".format(num2,reverse(num2)))"
   ]
  },
  {
   "cell_type": "code",
   "execution_count": null,
   "id": "d0db5676-b142-413c-99fb-4b6bbaa63b87",
   "metadata": {},
   "outputs": [],
   "source": []
  }
 ],
 "metadata": {
  "kernelspec": {
   "display_name": "Python 3 (ipykernel)",
   "language": "python",
   "name": "python3"
  },
  "language_info": {
   "codemirror_mode": {
    "name": "ipython",
    "version": 3
   },
   "file_extension": ".py",
   "mimetype": "text/x-python",
   "name": "python",
   "nbconvert_exporter": "python",
   "pygments_lexer": "ipython3",
   "version": "3.11.5"
  }
 },
 "nbformat": 4,
 "nbformat_minor": 5
}
