{
 "cells": [
  {
   "cell_type": "markdown",
   "id": "4195d2db-60c8-4fa9-a0dd-c0799e4c1228",
   "metadata": {},
   "source": [
    "### Q1: A phrase is a palindrome if, after converting all uppercase letters into lowercase letters and removing all non-alphanumeric characters, it reads the same forward and backward. Alphanumeric characters include letters and numbers. Given a string s, return true if it is a palindrome, or false otherwise.\n",
    "\n",
    "Example 1:\n",
    "\n",
    "Input: s = \"A man, a plan, a canal: Panama\"\n",
    "\n",
    "Output: true\n",
    "\n",
    "Explanation: \"amanaplanacanalpanama\" is a palindrome.\n",
    "\n",
    "Example 2:\n",
    "\n",
    "Input: s = \"race a car\"\n",
    "\n",
    "Output: false\n",
    "\n",
    "Explanation: \"raceacar\" is not a palindrome."
   ]
  },
  {
   "cell_type": "code",
   "execution_count": 2,
   "id": "eabe9361-7152-4770-9581-1f6eb98f95f0",
   "metadata": {},
   "outputs": [
    {
     "name": "stdout",
     "output_type": "stream",
     "text": [
      "A man, a plan, a canal: Panama is palindrome: True\n",
      "race a car is palindrome: False\n"
     ]
    },
    {
     "name": "stderr",
     "output_type": "stream",
     "text": [
      "<>:4: SyntaxWarning: invalid escape sequence '\\W'\n",
      "<>:4: SyntaxWarning: invalid escape sequence '\\W'\n",
      "C:\\Users\\Sonal's\\AppData\\Local\\Temp\\ipykernel_16516\\1445464792.py:4: SyntaxWarning: invalid escape sequence '\\W'\n",
      "  data = re.sub(\"\\W\",\"\",data)\n"
     ]
    }
   ],
   "source": [
    "import re\n",
    "def isPalindrome(data):\n",
    "    data = data.lower()\n",
    "    data = re.sub(\"\\W\",\"\",data)\n",
    "    if data == data[::-1]:\n",
    "        return True\n",
    "    else:\n",
    "        return False\n",
    "\n",
    "print('{} is palindrome: {}'.format(\"A man, a plan, a canal: Panama\",isPalindrome(\"A man, a plan, a canal: Panama\")))\n",
    "print('{} is palindrome: {}'.format(\"race a car\",isPalindrome(\"race a car\")))"
   ]
  },
  {
   "cell_type": "markdown",
   "id": "e5b69809-0ebe-4578-9844-6bbf5c4a9c03",
   "metadata": {},
   "source": [
    "### Q2 Given an array nums of size n, return the majority element. The majority element is the element that appears more than ⌊n / 2⌋ times. You may assume that the majority element always exists in the array.\n",
    "\n",
    "Example 1:\n",
    "\n",
    "Input: nums = [3,2,3]\n",
    "\n",
    "Output: 3\n",
    "\n",
    "Example 2:\n",
    "\n",
    "Input: nums = [2,2,1,1,1,2,2]\n",
    "\n",
    "Output: 2"
   ]
  },
  {
   "cell_type": "code",
   "execution_count": 20,
   "id": "b03c7876-f21a-4520-8d48-15ec9fb1c65b",
   "metadata": {},
   "outputs": [
    {
     "name": "stdout",
     "output_type": "stream",
     "text": [
      "The list of majority elemets  in [3, 2, 3] is 3 \n",
      "\n",
      "The list of majority elemets  in [2, 2, 1, 1, 1, 2, 2] is 2 \n",
      "\n"
     ]
    }
   ],
   "source": [
    "def majorityNum(nums):\n",
    "    data_dict =dict()\n",
    "    for num in nums:\n",
    "        if num not in data_dict:\n",
    "            data_dict[num]=1\n",
    "        else:\n",
    "            data_dict[num]+=1\n",
    "    print(\"The list of majority elemets  in {} is \".format(nums),end=\"\")\n",
    "    for num  in data_dict:\n",
    "        if data_dict[num] >len(nums)//2:\n",
    "            print(num,end=\" \")\n",
    "    \n",
    "    print(\"\\n\")\n",
    "            \n",
    "list1 = [3,2,3]\n",
    "list2 = [2,2,1,1,1,2,2]\n",
    "majorityNum(list1)\n",
    "majorityNum(list2)"
   ]
  },
  {
   "cell_type": "markdown",
   "id": "28ce127a-4271-48f9-af26-4cfc5114832e",
   "metadata": {},
   "source": [
    "###  Q3 Write an algorithm to determine if a number n is happy. A happy number is a number defined by the following process:\n",
    "\n",
    "Starting with any positive integer, replace the number by the sum of the squares of its digits.\n",
    "Repeat the process until the number equals 1 (where it will stay), or it loops endlessly in a cycle which does not include 1.\n",
    "Those numbers for which this process ends in 1 are happy.\n",
    "Return true if n is a happy number, and false if not.\n",
    "\n",
    " Example 1:\n",
    "\n",
    "Input: n = 19\n",
    "\n",
    "Output: true\n",
    "\n",
    "Explanation:\n",
    "\n",
    "12 + 92 = 82\n",
    "\n",
    "82 + 22 = 68\n",
    "\n",
    "62 + 82 = 100\n",
    "\n",
    "12 + 02 + 02 = 1\n",
    "\n",
    "Example 2:\n",
    "\n",
    "Input: n = 2\n",
    "\n",
    "Output: false"
   ]
  },
  {
   "cell_type": "code",
   "execution_count": 11,
   "id": "551107de-777d-40f2-b44f-d183af5fe99f",
   "metadata": {},
   "outputs": [
    {
     "name": "stdout",
     "output_type": "stream",
     "text": [
      "The 19 is happy Number? True\n",
      "The 2 is happy Number? False\n"
     ]
    }
   ],
   "source": [
    "def isHappy(num):\n",
    "    \n",
    "    while num>=10:\n",
    "        sum = 0\n",
    "        for digit in str(num):\n",
    "            sum += int(digit)*int(digit)\n",
    "\n",
    "        num = sum\n",
    "    return num ==1\n",
    "        \n",
    "\n",
    "num1 = 19\n",
    "num2=2\n",
    "print(\"The {} is happy Number? {}\".format(num1,isHappy(num1)))\n",
    "print(\"The {} is happy Number? {}\".format(num2,isHappy(num2)))"
   ]
  },
  {
   "cell_type": "code",
   "execution_count": null,
   "id": "6a1ed8ec-6bda-4d8c-82ba-bdf3ac73dee9",
   "metadata": {},
   "outputs": [],
   "source": []
  }
 ],
 "metadata": {
  "kernelspec": {
   "display_name": "Python 3 (ipykernel)",
   "language": "python",
   "name": "python3"
  },
  "language_info": {
   "codemirror_mode": {
    "name": "ipython",
    "version": 3
   },
   "file_extension": ".py",
   "mimetype": "text/x-python",
   "name": "python",
   "nbconvert_exporter": "python",
   "pygments_lexer": "ipython3",
   "version": "3.12.4"
  }
 },
 "nbformat": 4,
 "nbformat_minor": 5
}
