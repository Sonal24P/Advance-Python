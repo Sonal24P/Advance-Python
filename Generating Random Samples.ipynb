{
 "cells": [
  {
   "cell_type": "markdown",
   "id": "b371ed06-8f2d-4d19-9ee1-a38864a69c37",
   "metadata": {},
   "source": [
    "### generate random samples for regression"
   ]
  },
  {
   "cell_type": "code",
   "execution_count": 9,
   "id": "9392ab68-147e-426a-973d-546cd786bde5",
   "metadata": {},
   "outputs": [],
   "source": [
    "from sklearn.datasets import make_regression\n",
    "features,target,coefficients = make_regression(n_samples=10,n_features=5,n_informative=3,n_targets=1,noise=0.0,coef=True, random_state=3)"
   ]
  },
  {
   "cell_type": "code",
   "execution_count": 10,
   "id": "3113672c-cdb8-4d50-9f7c-40121e3b6479",
   "metadata": {},
   "outputs": [
    {
     "data": {
      "text/plain": [
       "array([[ 1.70957306,  0.88131804,  0.88462238,  0.05003364, -1.31386475],\n",
       "       [ 1.12397796, -1.02387576, -0.92379202, -0.13191423, -2.41908317],\n",
       "       [-2.24825777,  0.02971382, -0.8738823 , -0.26776186, -0.58859438],\n",
       "       [-1.74314104, -0.35627076,  0.64667545, -0.59664964, -1.62328545],\n",
       "       [-0.76883635, -0.16051336,  0.62524497, -0.23003072, -0.7129932 ],\n",
       "       [-0.04381817, -0.62700068, -0.08274148, -0.47721803, -0.35475898],\n",
       "       [ 0.98236743, -1.54647732, -0.54535995, -1.10106763, -0.40467741],\n",
       "       [ 0.23671627,  1.48614836, -0.2056499 , -1.02378514, -1.18504653],\n",
       "       [-1.8634927 ,  0.09649747,  0.43650985, -0.2773882 ,  1.78862847],\n",
       "       [-0.62641691, -1.24412333,  1.97611078, -0.80376609,  0.74505627]])"
      ]
     },
     "execution_count": 10,
     "metadata": {},
     "output_type": "execute_result"
    }
   ],
   "source": [
    "features"
   ]
  },
  {
   "cell_type": "code",
   "execution_count": 11,
   "id": "e68de53d-e04b-4f34-a497-d24955fab6ba",
   "metadata": {},
   "outputs": [
    {
     "data": {
      "text/plain": [
       "array([  33.98565736, -310.9384293 , -104.8573666 ,  -91.2091142 ,\n",
       "        -14.86060813,  -74.61608021, -176.23898002,    3.48567499,\n",
       "        165.84392414,  114.31147894])"
      ]
     },
     "execution_count": 11,
     "metadata": {},
     "output_type": "execute_result"
    }
   ],
   "source": [
    "target"
   ]
  },
  {
   "cell_type": "code",
   "execution_count": 12,
   "id": "0761fc75-0eef-4237-9d10-88af38d8cf29",
   "metadata": {},
   "outputs": [
    {
     "data": {
      "text/plain": [
       "array([ 0.        , 69.10929219, 74.67462231,  0.        , 70.76866218])"
      ]
     },
     "execution_count": 12,
     "metadata": {},
     "output_type": "execute_result"
    }
   ],
   "source": [
    "coefficients"
   ]
  },
  {
   "cell_type": "code",
   "execution_count": null,
   "id": "0fd5041d-6e7c-46c9-9de0-72081448c0aa",
   "metadata": {},
   "outputs": [],
   "source": []
  },
  {
   "cell_type": "markdown",
   "id": "d00e473e-bdbb-4b0c-b82d-88b20ba3b916",
   "metadata": {},
   "source": [
    "### generate random samples for classification"
   ]
  },
  {
   "cell_type": "code",
   "execution_count": 14,
   "id": "98ed040b-b57a-4687-b9a6-7d0629d4b3c7",
   "metadata": {},
   "outputs": [
    {
     "data": {
      "text/plain": [
       "array([[ 1.97553029,  0.12623055, -0.05285008,  0.4202822 , -1.91085329,\n",
       "         0.4691912 ,  0.60231928, -1.56704378,  2.85378888, -0.5871967 ],\n",
       "       [ 1.22803809,  0.55040706, -0.77425375,  0.82400562, -2.93940507,\n",
       "        -1.87895206, -0.40087819, -0.49472813,  2.75102165, -1.20498723],\n",
       "       [ 3.1375687 ,  1.78052544,  5.30205796, -0.89055558,  1.82752707,\n",
       "         0.50464864, -1.65072127, -0.74908637,  1.49682417,  3.32779236],\n",
       "       [ 0.76058404,  0.98268114, -2.44542876, -1.76068856, -2.98498604,\n",
       "        -0.54969788, -1.33195167, -1.40073627,  2.62730236, -3.0649115 ],\n",
       "       [ 0.35812154,  1.46561066, -1.24203559,  1.04444209, -2.70304279,\n",
       "        -0.95090064,  0.81095167,  2.19567471, -0.92274294, -2.74261463],\n",
       "       [-0.85149971,  1.55648207,  1.4667305 ,  1.9560789 ,  2.93501868,\n",
       "        -0.05558264, -1.1191154 , -0.19557969, -1.30293045,  0.90964104],\n",
       "       [ 2.97070486,  3.06263204,  3.71073039,  0.36949272,  0.18584998,\n",
       "        -1.22055887,  1.16033857, -1.31381465,  2.97571712,  1.30944491],\n",
       "       [ 1.4831992 , -0.87643464, -0.99276082, -1.62743834, -2.69740574,\n",
       "        -0.6602036 ,  0.6590498 , -1.91051297,  3.80495908, -0.47645676],\n",
       "       [ 0.94497779, -0.6873031 , -2.2108467 ,  1.95487808, -3.54802437,\n",
       "        -2.26588577, -0.56230543, -2.62628361,  5.12711166, -1.24328685],\n",
       "       [ 0.36442544,  0.86717849,  0.95886709,  1.1110567 ,  0.37469713,\n",
       "        -0.30320855,  1.90465871,  0.28338271, -0.14876527,  0.29259877]])"
      ]
     },
     "execution_count": 14,
     "metadata": {},
     "output_type": "execute_result"
    }
   ],
   "source": [
    "from sklearn.datasets import make_classification\n",
    "features,target=make_classification(n_samples=10,n_features=10,n_informative=5,n_redundant=3,n_classes=3,weights=[0.33,0.33,0.33],random_state=1)\n",
    "features"
   ]
  },
  {
   "cell_type": "code",
   "execution_count": 15,
   "id": "0eff59d8-fd98-43ce-811e-126599bbba7b",
   "metadata": {},
   "outputs": [
    {
     "data": {
      "text/plain": [
       "array([1, 2, 1, 0, 2, 2, 0, 1, 0, 0])"
      ]
     },
     "execution_count": 15,
     "metadata": {},
     "output_type": "execute_result"
    }
   ],
   "source": [
    "target"
   ]
  },
  {
   "cell_type": "markdown",
   "id": "2bbeaa5c-92a9-45f7-afa4-e8072e102c19",
   "metadata": {},
   "source": [
    "### generate random samples for clustering"
   ]
  },
  {
   "cell_type": "code",
   "execution_count": 6,
   "id": "8aef7342-d164-42bf-9fdb-d238778ee472",
   "metadata": {},
   "outputs": [
    {
     "data": {
      "text/plain": [
       "array([[  1.53230788,  -1.88971185],\n",
       "       [ -0.72864791,  -7.18926735],\n",
       "       [  0.11514166,  -1.44998632],\n",
       "       [  0.97411906,  -0.11855093],\n",
       "       [  0.24537861,  -1.2845269 ],\n",
       "       [ -3.07353754, -10.32322273],\n",
       "       [ -0.77722054, -10.72676345],\n",
       "       [  1.24982001,  -2.2823312 ],\n",
       "       [ -1.23856256, -10.59940081],\n",
       "       [ -2.33805418, -10.39048298]])"
      ]
     },
     "execution_count": 6,
     "metadata": {},
     "output_type": "execute_result"
    }
   ],
   "source": [
    "from sklearn.datasets import make_blobs\n",
    "features,clusters,centers=make_blobs(n_samples=10,centers=2,shuffle=True,return_centers=True,random_state=2)\n",
    "features"
   ]
  },
  {
   "cell_type": "code",
   "execution_count": 7,
   "id": "f87d12ce-45fd-4b56-9767-7e3325c6164f",
   "metadata": {},
   "outputs": [
    {
     "data": {
      "text/plain": [
       "array([1, 0, 1, 1, 1, 0, 0, 1, 0, 0])"
      ]
     },
     "execution_count": 7,
     "metadata": {},
     "output_type": "execute_result"
    }
   ],
   "source": [
    "clusters"
   ]
  },
  {
   "cell_type": "code",
   "execution_count": 8,
   "id": "d4bde20b-c152-4c3e-a1f5-dd0e40add023",
   "metadata": {},
   "outputs": [
    {
     "data": {
      "text/plain": [
       "array([[-1.28010196, -9.48147536],\n",
       "       [ 0.99324956, -1.29355215]])"
      ]
     },
     "execution_count": 8,
     "metadata": {},
     "output_type": "execute_result"
    }
   ],
   "source": [
    "centers"
   ]
  },
  {
   "cell_type": "code",
   "execution_count": null,
   "id": "4e96cffa-6dec-4621-9a69-cf887da2d9c3",
   "metadata": {},
   "outputs": [],
   "source": []
  }
 ],
 "metadata": {
  "kernelspec": {
   "display_name": "Python 3 (ipykernel)",
   "language": "python",
   "name": "python3"
  },
  "language_info": {
   "codemirror_mode": {
    "name": "ipython",
    "version": 3
   },
   "file_extension": ".py",
   "mimetype": "text/x-python",
   "name": "python",
   "nbconvert_exporter": "python",
   "pygments_lexer": "ipython3",
   "version": "3.11.5"
  }
 },
 "nbformat": 4,
 "nbformat_minor": 5
}
