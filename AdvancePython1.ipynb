{
 "cells": [
  {
   "cell_type": "markdown",
   "id": "f8728f5f-816e-48d2-a1e2-8b7ccbcec638",
   "metadata": {},
   "source": [
    "### A-Write a Python program to check if a number is a perfect square"
   ]
  },
  {
   "cell_type": "code",
   "execution_count": 28,
   "id": "1378cd21-a16b-4d63-af28-a8610d7dcbf7",
   "metadata": {},
   "outputs": [
    {
     "data": {
      "text/plain": [
       "{0: None,\n",
       " 1: None,\n",
       " 2: False,\n",
       " 3: False,\n",
       " 4: True,\n",
       " 5: False,\n",
       " 6: False,\n",
       " 7: False,\n",
       " 8: False,\n",
       " 9: True,\n",
       " 10: False}"
      ]
     },
     "execution_count": 28,
     "metadata": {},
     "output_type": "execute_result"
    }
   ],
   "source": [
    "def isSquare(num):\n",
    "    result =None\n",
    "    for i in range(1,num):\n",
    "        if i*i == num: #check if the the number is a square of given number\n",
    "            result= True\n",
    "            break\n",
    "        else:\n",
    "            result= False\n",
    "    return result\n",
    "{i:isSquare(i) for i in range(11)}"
   ]
  },
  {
   "cell_type": "markdown",
   "id": "3d5971b2-508e-4473-bbe7-22d420ee4b25",
   "metadata": {},
   "source": [
    "### B- Write a Python program to find a missing number from a list. "
   ]
  },
  {
   "cell_type": "code",
   "execution_count": 34,
   "id": "32610a9c-ef30-4784-b318-8bd9d256dbb4",
   "metadata": {},
   "outputs": [
    {
     "name": "stdout",
     "output_type": "stream",
     "text": [
      "5 "
     ]
    }
   ],
   "source": [
    "def missingData(data):\n",
    "    minVal,maxVal =data[0],data[0]\n",
    "    for index in range(1,len(data)):\n",
    "        if data[index]>maxVal:\n",
    "            maxVal = data[index]  # find upper limit\n",
    "        if data[index]<minVal:\n",
    "            minVal = data[index]   # find lower limit\n",
    "        \n",
    "    for i in range(minVal,maxVal): # find the upper and lower limits of values in the list\n",
    "        if i not in data:\n",
    "            print(i,end=\" \")   # print the number from the range that is not present in the list\n",
    "data =  [1,2,3,4,6,7,8]\n",
    "missingData(data)"
   ]
  },
  {
   "cell_type": "markdown",
   "id": "4e859858-1885-489b-80d1-99162f9740ce",
   "metadata": {},
   "source": [
    "### C- Write a Python program to find the single number in a list that doesn't occur twice."
   ]
  },
  {
   "cell_type": "code",
   "execution_count": 30,
   "id": "4c71dee7-25b9-4f19-a706-206a98441c6b",
   "metadata": {},
   "outputs": [
    {
     "name": "stdout",
     "output_type": "stream",
     "text": [
      "5\n"
     ]
    }
   ],
   "source": [
    "def singleNumber(data):\n",
    "    numCount=dict()\n",
    "    for num in data:        # Create a dictionary for counting the occurances of all the numbers in the list\n",
    "        if num not in numCount:\n",
    "            numCount[num]=1  \n",
    "        else:\n",
    "            numCount[num]+=1\n",
    "    for num in numCount:       # print the number with 1 count\n",
    "        if numCount[num] == 1:\n",
    "            print(num)\n",
    "data = [5, 3, 4, 3, 4]\n",
    "singleNumber(data)"
   ]
  },
  {
   "cell_type": "code",
   "execution_count": null,
   "id": "20d50ce4-894a-45b0-acaf-87a51fe379d2",
   "metadata": {},
   "outputs": [],
   "source": []
  }
 ],
 "metadata": {
  "kernelspec": {
   "display_name": "Python 3 (ipykernel)",
   "language": "python",
   "name": "python3"
  },
  "language_info": {
   "codemirror_mode": {
    "name": "ipython",
    "version": 3
   },
   "file_extension": ".py",
   "mimetype": "text/x-python",
   "name": "python",
   "nbconvert_exporter": "python",
   "pygments_lexer": "ipython3",
   "version": "3.11.5"
  }
 },
 "nbformat": 4,
 "nbformat_minor": 5
}
