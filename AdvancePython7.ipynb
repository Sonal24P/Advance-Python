{
 "cells": [
  {
   "cell_type": "markdown",
   "id": "fca291f6-a0de-44b2-96b6-f0dfe4daffdf",
   "metadata": {},
   "source": [
    "### Q1 )\r\n",
    "\r\n",
    "Given an integer x, return true if x is palindrome integer.\r\n",
    "\r\n",
    "An integer is a palindrome when it reads the same backward as forward.\r\n",
    "\r\n",
    "For example, 121 is a palindrome while 123 i\"\r\n",
    "\r\n",
    "Output: 58\r\n",
    "\r\n",
    "Explanation: L = 50, V= 5, III = 3."
   ]
  },
  {
   "cell_type": "code",
   "execution_count": 5,
   "id": "aef94c0c-de75-48ee-93df-7aa3cc7441ca",
   "metadata": {},
   "outputs": [
    {
     "name": "stdout",
     "output_type": "stream",
     "text": [
      "121 is Palindrome: True\n",
      "1261 is Palindrome: False\n"
     ]
    }
   ],
   "source": [
    "def isPalindrome(num):\n",
    "    if str(num) == str(num)[::-1]:\n",
    "        return True\n",
    "    else:\n",
    "        return False\n",
    "print(\"{} is Palindrome: {}\".format(121,isPalindrome(121)))\n",
    "print(\"{} is Palindrome: {}\".format(1261,isPalindrome(1261)))"
   ]
  },
  {
   "cell_type": "markdown",
   "id": "b9f718a8-0bb4-467e-b6c7-352c7b35351a",
   "metadata": {},
   "source": [
    "### Q2)\n",
    "\n",
    "Roman numerals are represented by seven different symbols: I, V, X, L, C, D and M.\n",
    "\n",
    "Symbol       Value\n",
    "\n",
    "I             1\n",
    "\n",
    "V             5\n",
    "\n",
    "X             10\n",
    "\n",
    "L             50\n",
    "\n",
    "C             100\n",
    "\n",
    "D             500\n",
    "\n",
    "M             1000\n",
    "\n",
    "For example, 2 is written as II in Roman numeral, just two ones added together. 12 is written as XII, which is simply X + II. The number 27 is written as XXVII, which is XX + V + II.\n",
    "\n",
    "Roman numerals are usually written largest to smallest from left to right. However, the numeral for four is not IIII. Instead, the number four is written as IV. Because the one is before the five we subtract it making four. The same principle applies to the number nine, which is written as IX. There are six instances where subtraction is used:\n",
    "\n",
    "I can be placed before V (5) and X (10) to make 4 and 9. \n",
    "X can be placed before L (50) and C (100) to make 40 and 90. \n",
    "C can be placed before D (500) and M (1000) to make 400 and 900.\n",
    "Given a roman numeral, convert it to an integer.\n",
    "\n",
    " \n",
    "\n",
    "Example 1:\n",
    "\n",
    "Input: s = \"III\"\n",
    "\n",
    "Output: 3\n",
    "\n",
    "Explanation: III = 3.\n",
    "\n",
    " \n",
    "\n",
    "Input: s = \"LVIII\"\n",
    "\n",
    "Output: 58\n",
    "\n",
    "Explanation: L = 50, V= 5, III = 3."
   ]
  },
  {
   "cell_type": "code",
   "execution_count": 11,
   "id": "243a739c-c6b7-4e6d-bdac-d4bdd3e46a96",
   "metadata": {},
   "outputs": [
    {
     "name": "stdout",
     "output_type": "stream",
     "text": [
      "The integer of LVIII is 58\n"
     ]
    }
   ],
   "source": [
    "class Solution(object):\n",
    "    def romanToInt(self, s):\n",
    "        num =0\n",
    "        char_dict = {\"I\":1,\"V\":5,\"X\":10,\"L\":50,\"C\":100,\"D\":500,\"M\":1000}\n",
    "        if len(s)>1:\n",
    "            for index in range(len(s)-1):\n",
    "                if char_dict[s[index]]<char_dict[s[index+1]]:\n",
    "                    num-=char_dict[s[index]]\n",
    "                else:\n",
    "                    num+=char_dict[s[index]]\n",
    "            num+=char_dict[s[-1]]\n",
    "        else:\n",
    "            num = char_dict[s]\n",
    "\n",
    "        return num\n",
    "print(\"The integer of {} is {}\".format(\"LVIII\",Solution().romanToInt(\"LVIII\")))"
   ]
  },
  {
   "cell_type": "code",
   "execution_count": null,
   "id": "56d4069d-b35a-42f1-a7bb-d66aa3fbfe07",
   "metadata": {},
   "outputs": [],
   "source": []
  }
 ],
 "metadata": {
  "kernelspec": {
   "display_name": "Python 3 (ipykernel)",
   "language": "python",
   "name": "python3"
  },
  "language_info": {
   "codemirror_mode": {
    "name": "ipython",
    "version": 3
   },
   "file_extension": ".py",
   "mimetype": "text/x-python",
   "name": "python",
   "nbconvert_exporter": "python",
   "pygments_lexer": "ipython3",
   "version": "3.11.5"
  }
 },
 "nbformat": 4,
 "nbformat_minor": 5
}
