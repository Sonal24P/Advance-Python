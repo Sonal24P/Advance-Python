{
 "cells": [
  {
   "cell_type": "markdown",
   "id": "611361ea-5fd6-4c6c-98a9-f2a41c3a2574",
   "metadata": {},
   "source": [
    "### Q1. Write a function to find the longest common prefix string amongst an array of strings.\n",
    "\n",
    "If there is no common prefix, return an empty string \"\".\n",
    "\n",
    " \n",
    "\n",
    "Example 1:\n",
    "\n",
    "Input: strs = [\"flower\",\"flow\",\"flight\"]\n",
    "\n",
    "Output: \"fl\""
   ]
  },
  {
   "cell_type": "code",
   "execution_count": 1,
   "id": "a179da68-f6f0-4884-942b-28d63222955c",
   "metadata": {},
   "outputs": [
    {
     "data": {
      "text/plain": [
       "'fl'"
      ]
     },
     "execution_count": 1,
     "metadata": {},
     "output_type": "execute_result"
    }
   ],
   "source": [
    "def longestPrefix(array):\n",
    "    prefix = \"\"\n",
    "    for index in range(1,len(array)):\n",
    "        count = 0 \n",
    "        for item in range(1,len(array)):\n",
    "            if array[0][:index] != array[item][:index]:\n",
    "                break\n",
    "            else:\n",
    "                count+=1\n",
    "            if count==len(array)-1:\n",
    "                prefix = array[0][:index]\n",
    "                \n",
    "    return prefix\n",
    "                \n",
    "                \n",
    "print(\"The long\".format(longestPrefix([\"flower\",\"flow\",\"flight\"])   ))   "
   ]
  },
  {
   "cell_type": "markdown",
   "id": "11959066-5c43-48ca-840b-0c29830dd404",
   "metadata": {},
   "source": [
    "### Q2. Given an array nums of size n, return the majority element.\n",
    "\n",
    "The majority element is the element that appears more than ⌊n / 2⌋ times. You may assume that the majority element always exists in the array.\n",
    "\n",
    " \n",
    "\n",
    "Example 1:\n",
    "\n",
    "Input: nums = [3,2,3]\n",
    "\n",
    "Output: 3"
   ]
  },
  {
   "cell_type": "code",
   "execution_count": 12,
   "id": "7a5654dc-c164-41c3-8107-f8a5686a5ef1",
   "metadata": {},
   "outputs": [
    {
     "name": "stdout",
     "output_type": "stream",
     "text": [
      "The majority element in [3, 2, 3] is 3\n"
     ]
    }
   ],
   "source": [
    "def majorValue(nums):\n",
    "    nums_count = dict()\n",
    "    for num in nums:\n",
    "        if num not in nums_count:\n",
    "            nums_count[num]=1\n",
    "        else:\n",
    "            nums_count[num]+=1\n",
    "    return max(nums_count)\n",
    "\n",
    "nums = [3,2,3]\n",
    "print(\"The majority element in {} is {}\".format(nums,majorValue(nums)))"
   ]
  },
  {
   "cell_type": "code",
   "execution_count": null,
   "id": "23f044df-9994-4831-8d35-b6c0ebb3479d",
   "metadata": {},
   "outputs": [],
   "source": []
  }
 ],
 "metadata": {
  "kernelspec": {
   "display_name": "Python 3 (ipykernel)",
   "language": "python",
   "name": "python3"
  },
  "language_info": {
   "codemirror_mode": {
    "name": "ipython",
    "version": 3
   },
   "file_extension": ".py",
   "mimetype": "text/x-python",
   "name": "python",
   "nbconvert_exporter": "python",
   "pygments_lexer": "ipython3",
   "version": "3.11.5"
  }
 },
 "nbformat": 4,
 "nbformat_minor": 5
}
