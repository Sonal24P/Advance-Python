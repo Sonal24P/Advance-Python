{
 "cells": [
  {
   "cell_type": "markdown",
   "id": "935b4e42",
   "metadata": {},
   "source": [
    "### 1-Write a Python program to find 4 numbers from an array such that the sum of 4 numbers equal to a given number.\n",
    "Input : [1, 0, -1, 0, -2, 2,10,11], 0)\n",
    "Output : [[-2, -1, 1, 2], [-2, 0, 0, 2], [-1, 0, 0, 1]]"
   ]
  },
  {
   "cell_type": "code",
   "execution_count": 9,
   "id": "4ace2fc3",
   "metadata": {},
   "outputs": [
    {
     "name": "stdout",
     "output_type": "stream",
     "text": [
      "The list of 4 numbers from an [-2, -1, 0, 0, 1, 2, 10, 11] such that the sum of 4 numbers equal to 0 is [[-2, -1, 1, 2], [-2, 0, 0, 2], [-1, 0, 0, 1]]\n"
     ]
    }
   ],
   "source": [
    "def getFourSum(l,addition):\n",
    "    fourSum =list()\n",
    "    # Sort the list\n",
    "    for limit in range(len(l)-1):\n",
    "        for index in range(limit+1,len(l)):\n",
    "            if l[limit]>l[index]:\n",
    "                l[limit],l[index] =l[index],l[limit]\n",
    "    #find the four elements from array such that sum =addition\n",
    "    for index1 in range(len(l)-4):\n",
    "        for index2 in range(index1+1,len(l)-3):\n",
    "            for index3 in range(index2+1,len(l)-2):\n",
    "                for index4 in range(index3+1,len(l)-1):\n",
    "                    if l[index1]+l[index2]+l[index3]+l[index4]==addition:\n",
    "                        fourSum.append([l[index1],l[index2],l[index3],l[index4]])\n",
    "    return fourSum\n",
    "                    \n",
    "                    \n",
    "nums = [1, 0, -1, 0, -2, 2,10,11]\n",
    "sum = 0\n",
    "result = getFourSum(nums,sum)  \n",
    "print(\"The list of 4 numbers from an {} such that the sum of 4 numbers equal to {} is {}\".format(nums,sum,result))"
   ]
  },
  {
   "cell_type": "markdown",
   "id": "ea8d8ca0",
   "metadata": {},
   "source": [
    "### 2-Write a Python program to find the single element appears once in a list where every element appears multiple times except for one. \n",
    "Input : [1, 1, 1, 2, 2, 2, 3]\n",
    "Output : 3"
   ]
  },
  {
   "cell_type": "code",
   "execution_count": 11,
   "id": "0009b3bd",
   "metadata": {},
   "outputs": [
    {
     "name": "stdout",
     "output_type": "stream",
     "text": [
      "The single element in the list [1, 1, 1, 2, 2, 2, 3] is 3\n"
     ]
    }
   ],
   "source": [
    "def singleElement(nums):\n",
    "    valCount =dict()\n",
    "    singleList = list()\n",
    "    \n",
    "    # create a dictionary with the value counts for nums\n",
    "    for val in nums:\n",
    "        if val not in valCount:   \n",
    "            valCount[val]=1\n",
    "        else:\n",
    "            valCount[val]+=1\n",
    "            \n",
    "    #find the single elements from the dictionary\n",
    "    for val in valCount:\n",
    "        if valCount[val]==1:\n",
    "            singleList.append(val)\n",
    "    return singleList \n",
    "\n",
    "\n",
    "nums= [1, 1, 1, 2, 2, 2, 3]\n",
    "singleElem =singleElement(nums)\n",
    "if len(singleElem) == 1:\n",
    "    print(\"The single element in the list {} is {}\".format(nums,singleElem[0]))\n",
    "else:\n",
    "    print(\"The list of single elements in the list {} is {}\".format(nums,singleElem))"
   ]
  },
  {
   "cell_type": "markdown",
   "id": "6a06a874",
   "metadata": {},
   "source": [
    "### 3-Write a Python program to add the digits of a positive integer repeatedly until the result has a single digit. \n",
    "Input : 48\n",
    "Output : 3\n",
    "For example given number is 59, the result will be 5.\n",
    "Step 1: 5 + 9 = 14\n",
    "Step 1: 1 + 4 = 5"
   ]
  },
  {
   "cell_type": "code",
   "execution_count": 7,
   "id": "5c22d0d1",
   "metadata": {},
   "outputs": [
    {
     "name": "stdout",
     "output_type": "stream",
     "text": [
      "The result with single digit for 48 is 3\n"
     ]
    }
   ],
   "source": [
    "def getSingleDigit(num):\n",
    "    #add all the digits of the num untill it becomes a single digit\n",
    "    while num>=10: \n",
    "        num=sum([int(digit) for digit in str(num)]) \n",
    "    return num\n",
    "num =48\n",
    "digit = getSingleDigit(num)\n",
    "print(\"The result with single digit for {} is {}\".format(num,digit))"
   ]
  },
  {
   "cell_type": "code",
   "execution_count": null,
   "id": "4b2b604c",
   "metadata": {},
   "outputs": [],
   "source": []
  }
 ],
 "metadata": {
  "kernelspec": {
   "display_name": "Python 3 (ipykernel)",
   "language": "python",
   "name": "python3"
  },
  "language_info": {
   "codemirror_mode": {
    "name": "ipython",
    "version": 3
   },
   "file_extension": ".py",
   "mimetype": "text/x-python",
   "name": "python",
   "nbconvert_exporter": "python",
   "pygments_lexer": "ipython3",
   "version": "3.11.5"
  }
 },
 "nbformat": 4,
 "nbformat_minor": 5
}
